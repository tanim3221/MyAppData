{
 "cells": [
  {
   "cell_type": "code",
   "execution_count": 44,
   "metadata": {},
   "outputs": [
    {
     "name": "stdout",
     "output_type": "stream",
     "text": [
      "8\n"
     ]
    }
   ],
   "source": [
    "# Q 01\n",
    "print(len(\"95637+12\"))\n"
   ]
  },
  {
   "cell_type": "code",
   "execution_count": 8,
   "metadata": {},
   "outputs": [
    {
     "name": "stdout",
     "output_type": "stream",
     "text": [
      "C\n"
     ]
    }
   ],
   "source": [
    "\n",
    "# Q 02\n",
    "\n",
    "score = 91\n",
    "if score < 80 and score > 70:\n",
    "    print(\"A\")\n",
    "elif score < 90 and score > 80:\n",
    "    print(\"B\")\n",
    "elif score > 60:\n",
    "    print(\"C\")\n",
    "else:\n",
    "    print(\"D\")\n"
   ]
  },
  {
   "cell_type": "code",
   "execution_count": 46,
   "metadata": {},
   "outputs": [
    {
     "ename": "NameError",
     "evalue": "name 'a_variable' is not defined",
     "output_type": "error",
     "traceback": [
      "\u001b[1;31m---------------------------------------------------------------------------\u001b[0m",
      "\u001b[1;31mNameError\u001b[0m                                 Traceback (most recent call last)",
      "Cell \u001b[1;32mIn [46], line 7\u001b[0m\n\u001b[0;32m      4\u001b[0m     \u001b[38;5;28;01mreturn\u001b[39;00m a_parameter \n\u001b[0;32m      6\u001b[0m a_function(\u001b[38;5;241m10\u001b[39m)\n\u001b[1;32m----> 7\u001b[0m \u001b[38;5;28mprint\u001b[39m(\u001b[43ma_variable\u001b[49m)\n",
      "\u001b[1;31mNameError\u001b[0m: name 'a_variable' is not defined"
     ]
    }
   ],
   "source": [
    "\n",
    "# Q 03\n",
    "def a_function(a_parameter):\n",
    "    a_variable = 15\n",
    "    return a_parameter\n",
    "\n",
    "\n",
    "a_function(10)\n",
    "print(a_variable)\n"
   ]
  },
  {
   "cell_type": "code",
   "execution_count": null,
   "metadata": {},
   "outputs": [
    {
     "name": "stdout",
     "output_type": "stream",
     "text": [
      "15\n"
     ]
    }
   ],
   "source": [
    "\n",
    "# Q 04\n",
    "\n",
    "def outer_function(a, b):\n",
    "    def inner_function(c, d):\n",
    "        return c + d\n",
    "    return inner_function(a, b)\n",
    "\n",
    "\n",
    "result = outer_function(5, 10)\n",
    "print(result)\n"
   ]
  },
  {
   "cell_type": "code",
   "execution_count": null,
   "metadata": {},
   "outputs": [
    {
     "name": "stdout",
     "output_type": "stream",
     "text": [
      "20 4 12\n"
     ]
    }
   ],
   "source": [
    "def foo(a, b=4, c=6):\n",
    "    print(a, b, c)\n",
    "\n",
    "\n",
    "foo(20, c=12)\n"
   ]
  },
  {
   "cell_type": "code",
   "execution_count": null,
   "metadata": {},
   "outputs": [
    {
     "name": "stdout",
     "output_type": "stream",
     "text": [
      "4 (7, 3, 0, 9) {'i': 10, 'p': 64}\n"
     ]
    }
   ],
   "source": [
    "def all_aboard(a, *args, **kw):\n",
    "    print(a, args, kw)\n",
    "\n",
    "\n",
    "all_aboard(4, 7, 3, 0, 9, i=10, p=64)\n"
   ]
  },
  {
   "cell_type": "code",
   "execution_count": null,
   "metadata": {},
   "outputs": [
    {
     "name": "stdout",
     "output_type": "stream",
     "text": [
      "[5, 11, 37]\n"
     ]
    }
   ],
   "source": [
    "numbers = [1, 1, 2, 3, 5, 8, 13, 21, 34, 55]\n",
    "result = [num + 3 for num in numbers if num % 2 == 0]\n",
    "print(result)\n"
   ]
  },
  {
   "cell_type": "code",
   "execution_count": null,
   "metadata": {},
   "outputs": [
    {
     "name": "stdout",
     "output_type": "stream",
     "text": [
      "[5, 11, 37]\n"
     ]
    }
   ],
   "source": [
    "numbers = [1, 1, 2, 3, 5, 8, 13, 21, 34, 55]\n",
    "result = [num + 3 for num in numbers if num % 2 == 0]\n",
    "print(result)\n"
   ]
  },
  {
   "cell_type": "code",
   "execution_count": null,
   "metadata": {},
   "outputs": [
    {
     "name": "stdout",
     "output_type": "stream",
     "text": [
      "Tanim\n"
     ]
    }
   ],
   "source": [
    "set = input(\"Whats your name? \")\n",
    "print(set)\n"
   ]
  },
  {
   "cell_type": "code",
   "execution_count": null,
   "metadata": {},
   "outputs": [
    {
     "name": "stdout",
     "output_type": "stream",
     "text": [
      "Your city: Dhaka and your district: Gazipur\n"
     ]
    }
   ],
   "source": [
    "city = input(\"Enter your city name: \")\n",
    "dis = input(\"Enter your district name: \")\n",
    "\n",
    "print(\"Your city: \"+city+\" \"+\"and your district: \"+dis)\n"
   ]
  },
  {
   "cell_type": "code",
   "execution_count": null,
   "metadata": {},
   "outputs": [
    {
     "name": "stdout",
     "output_type": "stream",
     "text": [
      "5\n"
     ]
    }
   ],
   "source": [
    "name = input(\"Enter your name: \")\n",
    "length = len(name)\n",
    "print(length)\n"
   ]
  },
  {
   "cell_type": "code",
   "execution_count": null,
   "metadata": {},
   "outputs": [
    {
     "name": "stdout",
     "output_type": "stream",
     "text": [
      "o\n"
     ]
    }
   ],
   "source": [
    "# Data Type\n",
    "\n",
    "# String\n",
    "name = \"Hello\"\n",
    "print(name[4])\n"
   ]
  },
  {
   "cell_type": "code",
   "execution_count": null,
   "metadata": {},
   "outputs": [
    {
     "name": "stdout",
     "output_type": "stream",
     "text": [
      "123456\n"
     ]
    }
   ],
   "source": [
    "# String\n",
    "print(\"123\"+\"456\")\n"
   ]
  },
  {
   "cell_type": "code",
   "execution_count": null,
   "metadata": {},
   "outputs": [
    {
     "name": "stdout",
     "output_type": "stream",
     "text": [
      "579\n"
     ]
    }
   ],
   "source": [
    "# Integer\n",
    "\n",
    "print(123+456)\n"
   ]
  },
  {
   "cell_type": "code",
   "execution_count": null,
   "metadata": {},
   "outputs": [
    {
     "ename": "TypeError",
     "evalue": "'int' object is not subscriptable",
     "output_type": "error",
     "traceback": [
      "\u001b[1;31m---------------------------------------------------------------------------\u001b[0m",
      "\u001b[1;31mTypeError\u001b[0m                                 Traceback (most recent call last)",
      "Cell \u001b[1;32mIn [15], line 2\u001b[0m\n\u001b[0;32m      1\u001b[0m number \u001b[38;5;241m=\u001b[39m \u001b[38;5;241m123456789\u001b[39m\n\u001b[1;32m----> 2\u001b[0m \u001b[38;5;28mprint\u001b[39m(\u001b[43mnumber\u001b[49m\u001b[43m[\u001b[49m\u001b[38;5;241;43m1\u001b[39;49m\u001b[43m]\u001b[49m)\n",
      "\u001b[1;31mTypeError\u001b[0m: 'int' object is not subscriptable"
     ]
    }
   ],
   "source": [
    "number = 123456789\n",
    "print(number[1])\n"
   ]
  },
  {
   "cell_type": "code",
   "execution_count": null,
   "metadata": {},
   "outputs": [
    {
     "name": "stdout",
     "output_type": "stream",
     "text": [
      "3.1414\n"
     ]
    }
   ],
   "source": [
    "# float\n",
    "\n",
    "number_float = 3.1414\n",
    "\n",
    "print(number_float)\n"
   ]
  },
  {
   "cell_type": "code",
   "execution_count": null,
   "metadata": {},
   "outputs": [
    {
     "name": "stdout",
     "output_type": "stream",
     "text": [
      "True\n"
     ]
    }
   ],
   "source": [
    "# Bolean\n",
    "name = True\n",
    "print(name)\n"
   ]
  },
  {
   "cell_type": "code",
   "execution_count": null,
   "metadata": {},
   "outputs": [
    {
     "name": "stdout",
     "output_type": "stream",
     "text": [
      "734529.678\n"
     ]
    }
   ],
   "source": [
    "number = 734_529.678\n",
    "print(number)\n"
   ]
  },
  {
   "cell_type": "code",
   "execution_count": null,
   "metadata": {},
   "outputs": [
    {
     "name": "stdout",
     "output_type": "stream",
     "text": [
      "yo\n"
     ]
    }
   ],
   "source": [
    "street_name = \"Abbey Road\"\n",
    "print(street_name[4] + street_name[7])\n"
   ]
  },
  {
   "cell_type": "code",
   "execution_count": null,
   "metadata": {},
   "outputs": [
    {
     "name": "stdout",
     "output_type": "stream",
     "text": [
      "Your name contains 5 character\n"
     ]
    }
   ],
   "source": [
    "num_char = len(input(\"Enter your name: \"))\n",
    "new_num_char = str(num_char)\n",
    "print(\"Your name contains \"+new_num_char+\" character\")\n"
   ]
  },
  {
   "cell_type": "code",
   "execution_count": null,
   "metadata": {},
   "outputs": [
    {
     "name": "stdout",
     "output_type": "stream",
     "text": [
      "<class 'str'>\n",
      "70100.5\n"
     ]
    }
   ],
   "source": [
    "a = str(123)\n",
    "print(type(a))\n",
    "print(str(70) + str(\"100.5\"))\n"
   ]
  },
  {
   "cell_type": "code",
   "execution_count": null,
   "metadata": {},
   "outputs": [
    {
     "name": "stdout",
     "output_type": "stream",
     "text": [
      "13\n"
     ]
    }
   ],
   "source": [
    "two_digit_number = input(\"Type a two digit number: \")\n",
    "\n",
    "one = two_digit_number[0]\n",
    "two = two_digit_number[1]\n",
    "\n",
    "print(int(one)+int(two))\n"
   ]
  },
  {
   "cell_type": "code",
   "execution_count": 50,
   "metadata": {},
   "outputs": [
    {
     "name": "stdout",
     "output_type": "stream",
     "text": [
      "6\n",
      "5\n",
      "-4\n",
      "0.2\n",
      "8\n",
      "7.0\n"
     ]
    }
   ],
   "source": [
    "numbers_add = 1+5\n",
    "numbers_minus = 1-5\n",
    "numbers_divide = 1/5\n",
    "numbers_multipy = 1*5\n",
    "numbers_power = 2**3  # Exponents\n",
    "print(numbers_add)\n",
    "print(numbers_multipy)\n",
    "print(numbers_minus)\n",
    "print(numbers_divide)\n",
    "print(numbers_power)\n",
    "print(3*3+3/3-3)\n"
   ]
  },
  {
   "cell_type": "code",
   "execution_count": 51,
   "metadata": {},
   "outputs": [
    {
     "name": "stdout",
     "output_type": "stream",
     "text": [
      "3.0\n"
     ]
    }
   ],
   "source": [
    "print(3*(3+3)/3-3)\n"
   ]
  },
  {
   "cell_type": "code",
   "execution_count": 58,
   "metadata": {},
   "outputs": [
    {
     "ename": "ValueError",
     "evalue": "invalid literal for int() with base 10: ''",
     "output_type": "error",
     "traceback": [
      "\u001b[1;31m---------------------------------------------------------------------------\u001b[0m",
      "\u001b[1;31mValueError\u001b[0m                                Traceback (most recent call last)",
      "Cell \u001b[1;32mIn [58], line 4\u001b[0m\n\u001b[0;32m      1\u001b[0m height \u001b[38;5;241m=\u001b[39m \u001b[38;5;28minput\u001b[39m(\u001b[38;5;124m\"\u001b[39m\u001b[38;5;124mEnter your height in m: \u001b[39m\u001b[38;5;124m\"\u001b[39m)\n\u001b[0;32m      2\u001b[0m weight \u001b[38;5;241m=\u001b[39m \u001b[38;5;28minput\u001b[39m(\u001b[38;5;124m\"\u001b[39m\u001b[38;5;124mEnter your weight in kg: \u001b[39m\u001b[38;5;124m\"\u001b[39m)\n\u001b[1;32m----> 4\u001b[0m bmi_calc \u001b[38;5;241m=\u001b[39m \u001b[38;5;28;43mint\u001b[39;49m\u001b[43m(\u001b[49m\u001b[43mweight\u001b[49m\u001b[43m)\u001b[49m\u001b[38;5;241m/\u001b[39m\u001b[38;5;28mfloat\u001b[39m(height)\u001b[38;5;241m*\u001b[39m\u001b[38;5;241m*\u001b[39m\u001b[38;5;241m2\u001b[39m\n\u001b[0;32m      6\u001b[0m \u001b[38;5;28mprint\u001b[39m(\u001b[38;5;28mint\u001b[39m(bmi_calc))\n",
      "\u001b[1;31mValueError\u001b[0m: invalid literal for int() with base 10: ''"
     ]
    }
   ],
   "source": [
    "height = input(\"Enter your height in m: \")\n",
    "weight = input(\"Enter your weight in kg: \")\n",
    "\n",
    "bmi_calc = int(weight)/float(height)**2\n",
    "\n",
    "print(int(bmi_calc))\n"
   ]
  },
  {
   "cell_type": "code",
   "execution_count": 64,
   "metadata": {},
   "outputs": [
    {
     "name": "stdout",
     "output_type": "stream",
     "text": [
      "0.38\n"
     ]
    }
   ],
   "source": [
    "print(round(3/8, 2))\n"
   ]
  },
  {
   "cell_type": "code",
   "execution_count": 71,
   "metadata": {},
   "outputs": [
    {
     "name": "stdout",
     "output_type": "stream",
     "text": [
      "<class 'float'>\n",
      "1.0\n"
     ]
    }
   ],
   "source": [
    "print(type(4/2))\n",
    "result = 4/2\n",
    "result /= 2\n",
    "print(result)\n"
   ]
  },
  {
   "cell_type": "code",
   "execution_count": 72,
   "metadata": {},
   "outputs": [
    {
     "name": "stdout",
     "output_type": "stream",
     "text": [
      "1\n"
     ]
    }
   ],
   "source": [
    "score = 0\n",
    "score += 1\n",
    "print(score)\n"
   ]
  },
  {
   "cell_type": "code",
   "execution_count": 76,
   "metadata": {},
   "outputs": [
    {
     "name": "stdout",
     "output_type": "stream",
     "text": [
      "Your score is 0, your height is 1.8, you are winning is True\n"
     ]
    }
   ],
   "source": [
    "score = 0\n",
    "height = 1.8\n",
    "isWinning = True\n",
    "# f string\n",
    "print(\n",
    "    f\"Your score is {score}, your height is {height}, you are winning is {isWinning}\")\n"
   ]
  },
  {
   "cell_type": "code",
   "execution_count": 78,
   "metadata": {},
   "outputs": [
    {
     "name": "stdout",
     "output_type": "stream",
     "text": [
      "You have 12410 days, 1768 weeks and 408 months left.\n"
     ]
    }
   ],
   "source": [
    "age = input(\"What is your age? \")\n",
    "live_until = 90\n",
    "remaining = abs(int(age)-int(live_until))\n",
    "days = int(remaining)*365\n",
    "weeks = int(remaining)*52\n",
    "month = int(remaining)*12\n",
    "print(f\"You have {days} days, {weeks} weeks and {month} months left.\")\n"
   ]
  },
  {
   "cell_type": "code",
   "execution_count": 79,
   "metadata": {},
   "outputs": [
    {
     "name": "stdout",
     "output_type": "stream",
     "text": [
      "6.0\n"
     ]
    }
   ],
   "source": [
    "print(6 + 4 / 2 - (1 * 2))\n"
   ]
  },
  {
   "cell_type": "code",
   "execution_count": 81,
   "metadata": {},
   "outputs": [
    {
     "name": "stdout",
     "output_type": "stream",
     "text": [
      "<class 'float'>\n"
     ]
    }
   ],
   "source": [
    "a = int(\"5\") / int(2.7)\n",
    "print(type(a))\n"
   ]
  },
  {
   "cell_type": "code",
   "execution_count": 82,
   "metadata": {},
   "outputs": [
    {
     "name": "stdout",
     "output_type": "stream",
     "text": [
      "Hello, Tanim\n"
     ]
    }
   ],
   "source": [
    "name = input(\"Name Here: \")\n",
    "print(f\"Hello, {name}\")\n"
   ]
  },
  {
   "cell_type": "code",
   "execution_count": 83,
   "metadata": {},
   "outputs": [
    {
     "name": "stdout",
     "output_type": "stream",
     "text": [
      "Hello, Tanim\n"
     ]
    }
   ],
   "source": [
    "name = input(\"Name Here: \")\n",
    "print(\"Hello, \"+name)\n"
   ]
  },
  {
   "cell_type": "code",
   "execution_count": 85,
   "metadata": {},
   "outputs": [
    {
     "ename": "TypeError",
     "evalue": "can only concatenate str (not \"int\") to str",
     "output_type": "error",
     "traceback": [
      "\u001b[1;31m---------------------------------------------------------------------------\u001b[0m",
      "\u001b[1;31mTypeError\u001b[0m                                 Traceback (most recent call last)",
      "Cell \u001b[1;32mIn [85], line 2\u001b[0m\n\u001b[0;32m      1\u001b[0m age \u001b[38;5;241m=\u001b[39m \u001b[38;5;241m12\u001b[39m\n\u001b[1;32m----> 2\u001b[0m \u001b[38;5;28mprint\u001b[39m(\u001b[38;5;124;43m\"\u001b[39;49m\u001b[38;5;124;43mYour age , \u001b[39;49m\u001b[38;5;124;43m\"\u001b[39;49m\u001b[38;5;241;43m+\u001b[39;49m\u001b[43mage\u001b[49m)\n",
      "\u001b[1;31mTypeError\u001b[0m: can only concatenate str (not \"int\") to str"
     ]
    }
   ],
   "source": [
    "age = 12\n",
    "print(\"Your age , \"+age)\n"
   ]
  },
  {
   "cell_type": "code",
   "execution_count": 87,
   "metadata": {},
   "outputs": [
    {
     "name": "stdout",
     "output_type": "stream",
     "text": [
      "Your age 12\n"
     ]
    }
   ],
   "source": [
    "\n",
    "age = 12\n",
    "print(f\"Your age {age}\")\n"
   ]
  },
  {
   "cell_type": "code",
   "execution_count": 93,
   "metadata": {},
   "outputs": [
    {
     "name": "stdout",
     "output_type": "stream",
     "text": [
      "Welcome to my calculator\n",
      "Each person should pay: 23.00\n"
     ]
    }
   ],
   "source": [
    "print(\"Welcome to my calculator\")\n",
    "bill = input(\"What was the total bill? \")\n",
    "bill_float = float(bill)\n",
    "tip = input(\"How much tip would you like to give? (in %) \")\n",
    "tip_int = int(tip)\n",
    "people = input(\"How many pepole to spilt the bill? \")\n",
    "people_int = int(people)\n",
    "\n",
    "tip_as_percent = tip_int/100\n",
    "total_tip_amount = bill_float*tip_as_percent\n",
    "total_bill = bill_float+total_tip_amount\n",
    "bill_per_person = total_bill/people_int\n",
    "final_amount = round(bill_per_person, 2)\n",
    "final_amount = \"{:.2f}\".format(bill_per_person)\n",
    "print(f\"Each person should pay: {final_amount}\")\n"
   ]
  },
  {
   "cell_type": "code",
   "execution_count": 95,
   "metadata": {},
   "outputs": [
    {
     "name": "stdout",
     "output_type": "stream",
     "text": [
      "Welcome to my game !\n",
      "You can ride !\n"
     ]
    }
   ],
   "source": [
    "print(\"Welcome to my game !\")\n",
    "\n",
    "height = int(input(\"Enter your height in cm: \"))\n",
    "\n",
    "if height > 120:\n",
    "    print(\"You can ride !\")\n",
    "else:\n",
    "    print(\"You can't ride !\")\n"
   ]
  },
  {
   "cell_type": "code",
   "execution_count": 99,
   "metadata": {},
   "outputs": [
    {
     "name": "stdout",
     "output_type": "stream",
     "text": [
      "This is a even number !\n"
     ]
    }
   ],
   "source": [
    "number = int(input(\"Which number do you want to check? \"))\n",
    "\n",
    "check = number % 2\n",
    "\n",
    "if check == 0:\n",
    "    print(\"This is a even number !\")\n",
    "else:\n",
    "    print(\"This is a odd number !\")\n"
   ]
  },
  {
   "cell_type": "code",
   "execution_count": 101,
   "metadata": {},
   "outputs": [
    {
     "name": "stdout",
     "output_type": "stream",
     "text": [
      "Welcome to my game !\n",
      "Congratulation! You can ride.\n",
      "Please pay 12 Taka\n"
     ]
    }
   ],
   "source": [
    "print(\"Welcome to my game !\")\n",
    "\n",
    "height = int(input(\"Enter your height in cm: \"))\n",
    "\n",
    "if height >= 120:\n",
    "    print(\"Congratulation! You can ride.\")\n",
    "    age = int(input(\"Enter your age: \"))\n",
    "    if age < 12:\n",
    "        print(\"Please pay 5 Taka\")\n",
    "    elif age <= 18:\n",
    "        print(\"Please pay 7 Taka\")\n",
    "    else:\n",
    "        print(\"Please pay 12 Taka\")\n",
    "else:\n",
    "    print(\"Sorry! You can't ride.\")\n"
   ]
  },
  {
   "cell_type": "code",
   "execution_count": 104,
   "metadata": {},
   "outputs": [
    {
     "name": "stdout",
     "output_type": "stream",
     "text": [
      "Your BMI is 25, you are overweight.\n"
     ]
    }
   ],
   "source": [
    "height = input(\"Enter your height in m: \")\n",
    "weight = input(\"Enter your weight in kg: \")\n",
    "\n",
    "bmi_calc = round(float(weight)/float(height)**2)\n",
    "\n",
    "if bmi_calc < 18.5:\n",
    "    print(f\"Your BMI is {bmi_calc}, you are underweight.\")\n",
    "elif bmi_calc < 25:\n",
    "    print(f\"Your BMI is {bmi_calc}, you are normal weight.\")\n",
    "elif bmi_calc < 30:\n",
    "    print(f\"Your BMI is {bmi_calc}, you are overweight.\")\n",
    "elif bmi_calc < 35:\n",
    "    print(f\"Your BMI is {bmi_calc}, you are obese.\")\n",
    "else:\n",
    "    print(f\"Your BMI is {bmi_calc}, you are clinically obese.\")\n"
   ]
  },
  {
   "cell_type": "code",
   "execution_count": 120,
   "metadata": {},
   "outputs": [
    {
     "name": "stdout",
     "output_type": "stream",
     "text": [
      "Sorry ! 1910 is not a leap year.\n"
     ]
    }
   ],
   "source": [
    "year = int(input(\"Which year do you want to check is leap year? \"))\n",
    "\n",
    "if year % 4 == 0:\n",
    "    if year % 100 == 0:\n",
    "        if year % 400 == 0:\n",
    "            print(f\"Congratulation! {year} is a leap year.\")\n",
    "        else:\n",
    "            print(f\"Sorry ! {year} is not a leap year.\")\n",
    "    else:\n",
    "        print(f\"Congratulation! {year} is a leap year.\")\n",
    "else:\n",
    "    print(f\"Sorry ! {year} is not a leap year.\")\n"
   ]
  },
  {
   "cell_type": "code",
   "execution_count": 123,
   "metadata": {},
   "outputs": [
    {
     "name": "stdout",
     "output_type": "stream",
     "text": [
      "Welcome to my game !\n",
      "Congratulation! You can ride.\n",
      "Adult tickets are 12 Taka\n",
      "Now final tickets bill are with photo 12 Taka\n"
     ]
    }
   ],
   "source": [
    "print(\"Welcome to my game !\")\n",
    "\n",
    "height = int(input(\"Enter your height in cm: \"))\n",
    "bill = 0\n",
    "\n",
    "if height >= 120:\n",
    "    print(\"Congratulation! You can ride.\")\n",
    "    age = int(input(\"Enter your age: \"))\n",
    "    if age < 12:\n",
    "        bill = 5\n",
    "        print(\"Child tickets are 5 Taka\")\n",
    "    elif age <= 18:\n",
    "        bill = 7\n",
    "        print(\"Youth tickets are 7 Taka\")\n",
    "    else:\n",
    "        bill = 12\n",
    "        print(\"Adult tickets are 12 Taka\")\n",
    "\n",
    "    wants_photo = input(\"Do you want a photo taken? Y or N \")\n",
    "\n",
    "    if wants_photo == \"Y\":\n",
    "        bill += 3\n",
    "\n",
    "    print(f\"Now final tickets bill are with photo {bill} Taka\")\n",
    "\n",
    "else:\n",
    "    print(\"Sorry! You can't ride.\")\n"
   ]
  },
  {
   "cell_type": "code",
   "execution_count": 127,
   "metadata": {},
   "outputs": [
    {
     "name": "stdout",
     "output_type": "stream",
     "text": [
      "Welcome to pizza delivery system !\n",
      "Your final bill is 23 TAKA\n"
     ]
    }
   ],
   "source": [
    "print(\"Welcome to pizza delivery system !\")\n",
    "size = input(\"What size pizza do you want? S, M, L\")\n",
    "add_pepperoni = input(\"Do you want pepperoni? Y or N \")\n",
    "extra_cheese = input(\"Do you want extra cheese? Y or N \")\n",
    "\n",
    "bill = 0\n",
    "\n",
    "if size == \"S\":\n",
    "    bill += 15\n",
    "elif size == \"M\":\n",
    "    bill += 20\n",
    "elif size == \"L\":\n",
    "    bill += 25\n",
    "else:\n",
    "    bill = 0\n",
    "\n",
    "if add_pepperoni == \"Y\":\n",
    "    if size == \"S\":\n",
    "        bill += 2\n",
    "    else:\n",
    "        bill += 3\n",
    "if extra_cheese == \"Y\":\n",
    "    bill += 1\n",
    "\n",
    "print(f\"Your final bill is {bill} TAKA\")\n"
   ]
  },
  {
   "cell_type": "code",
   "execution_count": 128,
   "metadata": {},
   "outputs": [
    {
     "name": "stdout",
     "output_type": "stream",
     "text": [
      "Welcome to my game !\n",
      "Congratulation! You can ride.\n",
      "Everything is going to be ok. Have a free ride on us!\n",
      "Now final tickets bill are with photo 3 Taka\n"
     ]
    }
   ],
   "source": [
    "print(\"Welcome to my game !\")\n",
    "\n",
    "height = int(input(\"Enter your height in cm: \"))\n",
    "bill = 0\n",
    "\n",
    "if height >= 120:\n",
    "    print(\"Congratulation! You can ride.\")\n",
    "    age = int(input(\"Enter your age: \"))\n",
    "    if age < 12:\n",
    "        bill = 5\n",
    "        print(\"Child tickets are 5 Taka\")\n",
    "    elif age <= 18:\n",
    "        bill = 7\n",
    "        print(\"Youth tickets are 7 Taka\")\n",
    "    elif age >= 45 and age <= 55:\n",
    "        print(\"Everything is going to be ok. Have a free ride on us!\")\n",
    "    else:\n",
    "        bill = 12\n",
    "        print(\"Adult tickets are 12 Taka\")\n",
    "\n",
    "    wants_photo = input(\"Do you want a photo taken? Y or N \")\n",
    "\n",
    "    if wants_photo == \"Y\":\n",
    "        bill += 3\n",
    "\n",
    "    print(f\"Now final tickets bill are with photo {bill} Taka\")\n",
    "\n",
    "else:\n",
    "    print(\"Sorry! You can't ride.\")\n"
   ]
  },
  {
   "cell_type": "code",
   "execution_count": 135,
   "metadata": {},
   "outputs": [
    {
     "name": "stdout",
     "output_type": "stream",
     "text": [
      "Welcome to love calculator !\n",
      "Your love score is 0, you go together like coke and mentos.\n"
     ]
    }
   ],
   "source": [
    "print(\"Welcome to love calculator !\")\n",
    "my_name = input(\"My name: \")\n",
    "my_partner_name = input(\"My partner name: \")\n",
    "\n",
    "combined_name = my_name+my_partner_name\n",
    "lowercase_name = combined_name.lower()\n",
    "\n",
    "t = lowercase_name.count('t')\n",
    "r = lowercase_name.count('r')\n",
    "u = lowercase_name.count('u')\n",
    "e = lowercase_name.count('e')\n",
    "\n",
    "true = t+r+u+e\n",
    "\n",
    "l = lowercase_name.count('l')\n",
    "o = lowercase_name.count('o')\n",
    "v = lowercase_name.count('v')\n",
    "e = lowercase_name.count('e')\n",
    "\n",
    "love = l+o+v+e\n",
    "\n",
    "love_score = str(true)+str(love)\n",
    "\n",
    "love_score = int(love_score)\n",
    "\n",
    "if (love_score < 10) or (love_score > 90):\n",
    "    print(\n",
    "        f\"Your love score is {love_score}, you go together like coke and mentos.\")\n",
    "elif (love_score >= 40) and (love_score <= 50):\n",
    "    print(f\"Your love score is {love_score}, you are alright together.\")\n",
    "else:\n",
    "    print(f\"Your love score: {love_score}\")\n"
   ]
  },
  {
   "cell_type": "code",
   "execution_count": 152,
   "metadata": {},
   "outputs": [
    {
     "name": "stdout",
     "output_type": "stream",
     "text": [
      "    ____     _    __     __           \n",
      "   / __ )   (_)  / /_   / /_    __  __\n",
      "  / __  |  / /  / __/  / __ \\  / / / /\n",
      " / /_/ /  / /  / /_   / / / / / /_/ / \n",
      "/_____/  /_/   \\__/  /_/ /_/  \\__, /  \n",
      "                             /____/   \n",
      "\n"
     ]
    }
   ],
   "source": [
    "import art\n",
    "\n",
    "# Get the text to be converted to ASCII art\n",
    "text = input(\"Enter the text to be converted to ASCII art: \")\n",
    "\n",
    "# Convert the text to ASCII art\n",
    "ascii_art = art.text2art(text, font='slant')\n",
    "\n",
    "# Print the ASCII art\n",
    "print(ascii_art)\n"
   ]
  },
  {
   "cell_type": "code",
   "execution_count": 7,
   "metadata": {},
   "outputs": [
    {
     "name": "stdout",
     "output_type": "stream",
     "text": [
      "Generating a random sequence of 3 integers...\n",
      "138\n",
      "583\n",
      "868\n",
      "Generating the same identical sequence of 3 integers...\n",
      "138\n",
      "583\n",
      "868\n"
     ]
    }
   ],
   "source": [
    "import random\n",
    "\n",
    "random.seed(1)\n",
    "\n",
    "# Get the state of the generator\n",
    "state = random.getstate()\n",
    "\n",
    "print('Generating a random sequence of 3 integers...')\n",
    "for i in range(3):\n",
    "    print(random.randint(1, 1000))\n",
    "\n",
    "# Restore the state to a point before the sequence was generated\n",
    "random.setstate(state)\n",
    "print('Generating the same identical sequence of 3 integers...')\n",
    "for i in range(3):\n",
    "    print(random.randint(1, 1000))\n"
   ]
  },
  {
   "cell_type": "code",
   "execution_count": 14,
   "metadata": {},
   "outputs": [
    {
     "name": "stdout",
     "output_type": "stream",
     "text": [
      "ValueError on randrange() since start > stop\n",
      "ValueError on randint() since 200 > 100\n",
      "i = 100  and j = 200000000.0\n",
      "randrange() generated number: 104638604\n",
      "randint() generated number: 155\n"
     ]
    }
   ],
   "source": [
    "i = 100\n",
    "j = 20e7\n",
    "\n",
    "# Generates a random number between i and j\n",
    "a = random.randrange(i, j)\n",
    "try:\n",
    "    b = random.randrange(j, i)\n",
    "except ValueError:\n",
    "    print('ValueError on randrange() since start > stop')\n",
    "\n",
    "c = random.randint(100, 200)\n",
    "try:\n",
    "    d = random.randint(200, 100)\n",
    "except ValueError:\n",
    "    print('ValueError on randint() since 200 > 100')\n",
    "\n",
    "print('i =', i, ' and j =', j)\n",
    "print('randrange() generated number:', a)\n",
    "print('randint() generated number:', c)\n"
   ]
  },
  {
   "cell_type": "code",
   "execution_count": 19,
   "metadata": {},
   "outputs": [
    {
     "name": "stdout",
     "output_type": "stream",
     "text": [
      "Random number from 0 to 1 : 0.2963903927869346\n",
      "Uniform Distribution between [1,5] : 3.972586641689991\n",
      "Gaussian Distribution with mean = 0 and standard deviation = 1 : 2.1324223460410883\n",
      "Exponential Distribution with lambda = 0.1 : 6.947478612544945\n",
      "Normal Distribution with mean = 1 and standard deviation = 2: 9.140770721723893\n"
     ]
    }
   ],
   "source": [
    "print('Random number from 0 to 1 :', random.random())\n",
    "print('Uniform Distribution between [1,5] :', random.uniform(1, 5))\n",
    "print('Gaussian Distribution with mean = 0 and standard deviation = 1 :',\n",
    "      random.gauss(0, 1))\n",
    "print('Exponential Distribution with lambda = 0.1 :', random.expovariate(0.1))\n",
    "print('Normal Distribution with mean = 1 and standard deviation = 2:',\n",
    "      random.normalvariate(1, 5))\n"
   ]
  },
  {
   "cell_type": "code",
   "execution_count": 24,
   "metadata": {},
   "outputs": [
    {
     "name": "stdout",
     "output_type": "stream",
     "text": [
      "Before shuffling [0, 0, 0, 0, 3, 0, 6, 4, 3, 4]\n",
      "After shuffling [6, 4, 0, 3, 4, 0, 3, 0, 0, 0]\n"
     ]
    }
   ],
   "source": [
    "sequence = [random.randint(0, i) for i in range(10)]\n",
    "\n",
    "print('Before shuffling', sequence)\n",
    "\n",
    "random.shuffle(sequence)\n",
    "\n",
    "print('After shuffling', sequence)\n"
   ]
  },
  {
   "cell_type": "code",
   "execution_count": 37,
   "metadata": {},
   "outputs": [
    {
     "name": "stdout",
     "output_type": "stream",
     "text": [
      "['one', 'eleven', 'twelve', 'five', 'six', 'ten']\n",
      "one\n",
      "five\n"
     ]
    }
   ],
   "source": [
    "a = ['one', 'eleven', 'twelve', 'five', 'six', 'ten']\n",
    "\n",
    "print(a)\n",
    "\n",
    "for i in range(2):\n",
    "    print(random.choice(a))\n"
   ]
  },
  {
   "cell_type": "code",
   "execution_count": 42,
   "metadata": {},
   "outputs": [
    {
     "name": "stdout",
     "output_type": "stream",
     "text": [
      "['one', 'eleven', 'twelve', 'five', 'six', 'ten']\n",
      "random sample: ['one', 'twelve']\n",
      "random sample: ['one', 'ten']\n",
      "random sample: ['twelve', 'ten']\n"
     ]
    }
   ],
   "source": [
    "a = ['one', 'eleven', 'twelve', 'five', 'six', 'ten']\n",
    "\n",
    "print(a)\n",
    "\n",
    "for i in range(3):\n",
    "    b = random.sample(a, 2)\n",
    "    print('random sample:', b)\n"
   ]
  },
  {
   "cell_type": "code",
   "execution_count": 49,
   "metadata": {},
   "outputs": [
    {
     "name": "stdout",
     "output_type": "stream",
     "text": [
      "Generating a random sequence of 4 numbers...\n",
      "[80, 33, 95, 46, 89]\n",
      "[18, 73, 98, 9, 33]\n"
     ]
    }
   ],
   "source": [
    "random.seed(5)\n",
    "\n",
    "print('Generating a random sequence of 4 numbers...')\n",
    "print([random.randint(1, 100) for i in range(5)])\n",
    "\n",
    "# Reset the seed to 1 again\n",
    "random.seed(1)\n",
    "\n",
    "# We now get the same sequence\n",
    "print([random.randint(1, 100) for i in range(5)])\n"
   ]
  },
  {
   "cell_type": "code",
   "execution_count": 22,
   "metadata": {},
   "outputs": [
    {
     "name": "stdout",
     "output_type": "stream",
     "text": [
      "3\n"
     ]
    }
   ],
   "source": [
    "import random\n",
    "\n",
    "random_integer = random.randint(1, 10)\n",
    "print(random_integer)\n"
   ]
  },
  {
   "cell_type": "code",
   "execution_count": 53,
   "metadata": {},
   "outputs": [
    {
     "name": "stdout",
     "output_type": "stream",
     "text": [
      "0.04615024248829591\n"
     ]
    }
   ],
   "source": [
    "random_float = random.random()\n",
    "print(random_float)\n"
   ]
  },
  {
   "cell_type": "code",
   "execution_count": 58,
   "metadata": {},
   "outputs": [
    {
     "name": "stdout",
     "output_type": "stream",
     "text": [
      "Your love score is 7\n"
     ]
    }
   ],
   "source": [
    "love_score = random.randint(1, 100)\n",
    "print(f\"Your love score is {love_score}\")\n"
   ]
  },
  {
   "cell_type": "code",
   "execution_count": 81,
   "metadata": {},
   "outputs": [
    {
     "name": "stdout",
     "output_type": "stream",
     "text": [
      "Heads\n"
     ]
    }
   ],
   "source": [
    "toss = random.randint(0, 1)\n",
    "if toss == 1:\n",
    "    print(\"Heads\")\n",
    "else:\n",
    "    print(\"Tails\")\n"
   ]
  },
  {
   "cell_type": "code",
   "execution_count": 96,
   "metadata": {},
   "outputs": [
    {
     "name": "stdout",
     "output_type": "stream",
     "text": [
      "['Gazipur', 'Munshigonj', 'Kishoregonj', 'Dhaka', 'Raj', 'Natore', 'Tangail', 'Rajabari']\n"
     ]
    }
   ],
   "source": [
    "district = [\"Gazipur\", \"Munshigonj\", \"Kishoregonj\", \"Dhaka\", \"Rajshahi\"]\n",
    "\n",
    "dis = district[-1]\n",
    "\n",
    "district[-1] = \"Raj\"\n",
    "\n",
    "district.append(\"Natore\")\n",
    "\n",
    "district.extend([\"Tangail\", \"Rajabari\"])\n",
    "\n",
    "print(district)\n"
   ]
  },
  {
   "cell_type": "code",
   "execution_count": 143,
   "metadata": {},
   "outputs": [
    {
     "name": "stdout",
     "output_type": "stream",
     "text": [
      "Tanim should pay the bill for today.\n"
     ]
    }
   ],
   "source": [
    "# name_list = input(\"Give me the name list seaperating by comma: \")\n",
    "name_list = \"Tanim,Bithy,Mahjabin,Bristy,Bintia\"\n",
    "name = name_list.split(\",\")\n",
    "random_name_number = random.randint(0, len(name)-1)\n",
    "random_name = name[random_name_number]\n",
    "print(f\"{random_name} should pay the bill for today.\")\n"
   ]
  },
  {
   "cell_type": "code",
   "execution_count": 144,
   "metadata": {},
   "outputs": [
    {
     "name": "stdout",
     "output_type": "stream",
     "text": [
      "[['Gazipur', 'Munshigonj', 'Kishoregonj', 'Dhaka', 'Rajshahi'], ['Sreepur', 'Kalaikur', 'Kapasia', 'Kaligonj']]\n"
     ]
    }
   ],
   "source": [
    "district = [\"Gazipur\", \"Munshigonj\", \"Kishoregonj\", \"Dhaka\", \"Rajshahi\"]\n",
    "upazila = [\"Sreepur\", \"Kalaikur\", \"Kapasia\", \"Kaligonj\"]\n",
    "comb = [district, upazila]\n",
    "print(comb)\n"
   ]
  },
  {
   "cell_type": "code",
   "execution_count": 151,
   "metadata": {},
   "outputs": [
    {
     "name": "stdout",
     "output_type": "stream",
     "text": [
      "['', '', '']\n",
      "['', '', '']\n",
      "['', '', '']\n",
      "=====================\n",
      "['', '', '']\n",
      "['', '', '']\n",
      "['', 'X', '']\n"
     ]
    }
   ],
   "source": [
    "row01 = [\"\", \"\", \"\"]\n",
    "row02 = [\"\", \"\", \"\"]\n",
    "row03 = [\"\", \"\", \"\"]\n",
    "comb_row = [row01, row02, row03]\n",
    "print(f\"{row01}\\n{row02}\\n{row03}\")\n",
    "position = input(\"Where do you want to put the letter? \")\n",
    "\n",
    "horizontal = int(position[0])\n",
    "vertical = int(position[1])\n",
    "\n",
    "selected_row = comb_row[vertical-1]\n",
    "selected_row[horizontal-1] = \"X\"\n",
    "print(\"=====================\")\n",
    "print(f\"{row01}\\n{row02}\\n{row03}\")\n"
   ]
  },
  {
   "cell_type": "code",
   "execution_count": 8,
   "metadata": {},
   "outputs": [
    {
     "name": "stdout",
     "output_type": "stream",
     "text": [
      "Your typing speed is 3.669734900005611 words per minute.\n"
     ]
    }
   ],
   "source": [
    "import random\n",
    "import time\n",
    "\n",
    "\n",
    "def typing_speed_test():\n",
    "    # Get the text to type.\n",
    "    text = \"The quick brown fox jumps over the lazy dog.\"\n",
    "\n",
    "    # Start the timer.\n",
    "    start_time = time.time()\n",
    "\n",
    "    # Get the user's input.\n",
    "    user_input = input()\n",
    "\n",
    "    # Stop the timer.\n",
    "    end_time = time.time()\n",
    "\n",
    "    # Calculate the typing speed.\n",
    "    typing_speed = len(user_input) / (end_time - start_time)\n",
    "\n",
    "    # Print the results.\n",
    "    print(\"Your typing speed is {} words per minute.\".format(typing_speed))\n",
    "\n",
    "\n",
    "if __name__ == \"__main__\":\n",
    "    typing_speed_test()\n"
   ]
  },
  {
   "cell_type": "code",
   "execution_count": 4,
   "metadata": {},
   "outputs": [
    {
     "name": "stdout",
     "output_type": "stream",
     "text": [
      "breathing\n",
      "underwater\n"
     ]
    }
   ],
   "source": [
    "class Animal:\n",
    "    def myBreath(self):\n",
    "        print(\"breathing\")\n",
    "\n",
    "\n",
    "class Fish(Animal):\n",
    "    def breathe(self):\n",
    "        super().myBreath()\n",
    "        print(\"underwater\")\n",
    "\n",
    "\n",
    "nemo = Fish()\n",
    "nemo.breathe()\n"
   ]
  },
  {
   "cell_type": "code",
   "execution_count": 58,
   "metadata": {},
   "outputs": [
    {
     "name": "stdout",
     "output_type": "stream",
     "text": [
      "My choice:\n",
      "\n",
      "\n",
      "    _______\n",
      "---'   ____)____\n",
      "          ______)\n",
      "          _______)\n",
      "         _______)\n",
      "---.__________)\n",
      "\n",
      "Computer choice:\n",
      "\n",
      "\n",
      "    _______\n",
      "---'   ____)____\n",
      "          ______)\n",
      "          _______)\n",
      "         _______)\n",
      "---.__________)\n",
      "\n",
      "Its a draw.\n"
     ]
    }
   ],
   "source": [
    "import random\n",
    "rock = '''\n",
    "    _______\n",
    "---'   ____)\n",
    "      (_____)\n",
    "      (_____)\n",
    "      (____)\n",
    "---.__(___)\n",
    "'''\n",
    "\n",
    "paper = '''\n",
    "    _______\n",
    "---'   ____)____\n",
    "          ______)\n",
    "          _______)\n",
    "         _______)\n",
    "---.__________)\n",
    "'''\n",
    "\n",
    "scissors = '''\n",
    "    _______\n",
    "---'   ____)____\n",
    "          ______)\n",
    "       __________)\n",
    "      (____)\n",
    "---.__(___)\n",
    "'''\n",
    "\n",
    "game_img = [rock, paper, scissors]\n",
    "\n",
    "user_choice = int(\n",
    "    input(\"What do you choose? Type 0 for Rock, 1 for Paper, 2 for Scissors.\\n\"))\n",
    "if user_choice >= 3 or user_choice < 0:\n",
    "    print(\"You typed a invalid number.\")\n",
    "else:\n",
    "    print(\"My choice:\\n\")\n",
    "    print(game_img[user_choice])\n",
    "    computer_choice = random.randint(0, len(game_img)-1)\n",
    "    print(f\"Computer choice:\\n\")\n",
    "    print(game_img[computer_choice])\n",
    "    if user_choice == 0 and computer_choice == 2:\n",
    "        print(\"You win.\")\n",
    "    elif user_choice == 2 and computer_choice == 0:\n",
    "        print(\"You lose.\")\n",
    "    elif computer_choice < user_choice:\n",
    "        print(\"You win.\")\n",
    "    elif computer_choice > user_choice:\n",
    "        print(\"You lose.\")\n",
    "    elif computer_choice == user_choice:\n",
    "        print(\"Its a draw.\")\n"
   ]
  },
  {
   "cell_type": "code",
   "execution_count": 62,
   "metadata": {},
   "outputs": [
    {
     "name": "stdout",
     "output_type": "stream",
     "text": [
      "Apple\n",
      "Banana\n",
      "Jack-Fruit\n"
     ]
    }
   ],
   "source": [
    "fruits = [\"Apple\", \"Banana\", \"Jack-Fruit\"]\n",
    "\n",
    "for fruit in fruits:\n",
    "    print(fruit)\n"
   ]
  },
  {
   "cell_type": "code",
   "execution_count": 82,
   "metadata": {},
   "outputs": [
    {
     "name": "stdout",
     "output_type": "stream",
     "text": [
      "[180, 124, 165, 173, 189, 169, 146]\n",
      "Total height of students: 1146\n",
      "Total number of students: 7\n",
      "Average height of students: 164\n"
     ]
    }
   ],
   "source": [
    "students_height = [180, 124, 165, 173, 189, 169, 146]\n",
    "total_std = len(students_height)\n",
    "\n",
    "for std in range(0, total_std):\n",
    "    students_height[std] = int(students_height[std])\n",
    "\n",
    "print(students_height)\n",
    "\n",
    "total_height = 0\n",
    "for height in students_height:\n",
    "    total_height += height\n",
    "print(f\"Total height of students: {total_height}\")\n",
    "\n",
    "number_of_student = 0\n",
    "for student in students_height:\n",
    "    number_of_student += 1\n",
    "print(f\"Total number of students: {number_of_student}\")\n",
    "\n",
    "avg_height = total_height/number_of_student\n",
    "\n",
    "print(f\"Average height of students: {round(avg_height)}\")\n"
   ]
  },
  {
   "cell_type": "code",
   "execution_count": 87,
   "metadata": {},
   "outputs": [
    {
     "name": "stdout",
     "output_type": "stream",
     "text": [
      "[90, 34, 67, 89, 99]\n",
      "The highest score in the class : 99\n"
     ]
    }
   ],
   "source": [
    "student_score = [\"90\", \"34\", \"67\", \"89\", \"99\"]\n",
    "for n in range(0, len(student_score)):\n",
    "    student_score[n] = int(student_score[n])\n",
    "print(student_score)\n",
    "\n",
    "highest_score = 0\n",
    "for score in student_score:\n",
    "    if score > highest_score:\n",
    "        highest_score = score\n",
    "\n",
    "print(f\"The highest score in the class : {highest_score}\")\n"
   ]
  },
  {
   "cell_type": "code",
   "execution_count": 91,
   "metadata": {},
   "outputs": [
    {
     "name": "stdout",
     "output_type": "stream",
     "text": [
      "1\n",
      "4\n",
      "7\n",
      "10\n"
     ]
    }
   ],
   "source": [
    "for num in range(1, 11, 3):\n",
    "    print(num)\n"
   ]
  },
  {
   "cell_type": "code",
   "execution_count": 93,
   "metadata": {},
   "outputs": [
    {
     "name": "stdout",
     "output_type": "stream",
     "text": [
      "5050\n"
     ]
    }
   ],
   "source": [
    "total = 0\n",
    "for num in range(1, 101):\n",
    "    total += num\n",
    "print(total)\n"
   ]
  },
  {
   "cell_type": "code",
   "execution_count": 96,
   "metadata": {},
   "outputs": [
    {
     "name": "stdout",
     "output_type": "stream",
     "text": [
      "2550\n"
     ]
    }
   ],
   "source": [
    "total = 0\n",
    "for number in range(2, 101, 2):\n",
    "    total += number\n",
    "\n",
    "print(total)\n"
   ]
  },
  {
   "cell_type": "code",
   "execution_count": 101,
   "metadata": {},
   "outputs": [
    {
     "name": "stdout",
     "output_type": "stream",
     "text": [
      "2550\n"
     ]
    }
   ],
   "source": [
    "total = 0\n",
    "for number in range(1, 101):\n",
    "    if number % 2 == 0:\n",
    "        total += number\n",
    "print(total)\n"
   ]
  },
  {
   "cell_type": "code",
   "execution_count": 105,
   "metadata": {},
   "outputs": [
    {
     "name": "stdout",
     "output_type": "stream",
     "text": [
      "1\n",
      "Divisible by 2\n",
      "Divisible by 3\n",
      "Divisible by 2\n",
      "Divisible by 5\n",
      "Divisible by 3\n",
      "7\n",
      "Divisible by 2\n",
      "Divisible by 3\n",
      "Divisible by 5\n",
      "11\n",
      "Divisible by 3\n",
      "13\n",
      "Divisible by 2\n",
      "Divisible by 3 and 5\n",
      "Divisible by 2\n",
      "17\n",
      "Divisible by 3\n",
      "19\n",
      "Divisible by 5\n",
      "Divisible by 3\n",
      "Divisible by 2\n",
      "23\n",
      "Divisible by 3\n",
      "Divisible by 5\n",
      "Divisible by 2\n",
      "Divisible by 3\n",
      "Divisible by 2\n",
      "29\n",
      "Divisible by 3 and 5\n",
      "31\n",
      "Divisible by 2\n",
      "Divisible by 3\n",
      "Divisible by 2\n",
      "Divisible by 5\n",
      "Divisible by 3\n",
      "37\n",
      "Divisible by 2\n",
      "Divisible by 3\n",
      "Divisible by 5\n",
      "41\n",
      "Divisible by 3\n",
      "43\n",
      "Divisible by 2\n",
      "Divisible by 3 and 5\n",
      "Divisible by 2\n",
      "47\n",
      "Divisible by 3\n",
      "49\n",
      "Divisible by 5\n",
      "Divisible by 3\n",
      "Divisible by 2\n",
      "53\n",
      "Divisible by 3\n",
      "Divisible by 5\n",
      "Divisible by 2\n",
      "Divisible by 3\n",
      "Divisible by 2\n",
      "59\n",
      "Divisible by 3 and 5\n",
      "61\n",
      "Divisible by 2\n",
      "Divisible by 3\n",
      "Divisible by 2\n",
      "Divisible by 5\n",
      "Divisible by 3\n",
      "67\n",
      "Divisible by 2\n",
      "Divisible by 3\n",
      "Divisible by 5\n",
      "71\n",
      "Divisible by 3\n",
      "73\n",
      "Divisible by 2\n",
      "Divisible by 3 and 5\n",
      "Divisible by 2\n",
      "77\n",
      "Divisible by 3\n",
      "79\n",
      "Divisible by 5\n",
      "Divisible by 3\n",
      "Divisible by 2\n",
      "83\n",
      "Divisible by 3\n",
      "Divisible by 5\n",
      "Divisible by 2\n",
      "Divisible by 3\n",
      "Divisible by 2\n",
      "89\n",
      "Divisible by 3 and 5\n",
      "91\n",
      "Divisible by 2\n",
      "Divisible by 3\n",
      "Divisible by 2\n",
      "Divisible by 5\n",
      "Divisible by 3\n",
      "97\n",
      "Divisible by 2\n",
      "Divisible by 3\n",
      "Divisible by 5\n"
     ]
    }
   ],
   "source": [
    "for number in range(1, 101):\n",
    "    if number % 3 == 0 and number % 5 == 0:\n",
    "        print(\"Divisible by 3 and 5\")\n",
    "    elif number % 3 == 0:\n",
    "        print(\"Divisible by 3\")\n",
    "    elif number % 5 == 0:\n",
    "        print(\"Divisible by 5\")\n",
    "    elif number % 2 == 0:\n",
    "        print(\"Divisible by 2\")\n",
    "    else:\n",
    "        print(number)\n"
   ]
  },
  {
   "cell_type": "code",
   "execution_count": 27,
   "metadata": {},
   "outputs": [
    {
     "name": "stdout",
     "output_type": "stream",
     "text": [
      "Welcome to password generator !\n",
      "Easy Password: xkr&%*&751\n",
      "Hard Password: 755*arr%*%\n"
     ]
    }
   ],
   "source": [
    "import random\n",
    "print(\"Welcome to password generator !\")\n",
    "\n",
    "letters = ['a', 'b', 'c', 'd', 'e', 'f', 'g', 'h', 'i', 'j', 'k', 'l', 'm', 'n', 'o', 'p', 'q', 'r', 's', 't', 'u', 'v', 'w', 'x', 'y',\n",
    "           'z', 'A', 'B', 'C', 'D', 'E', 'F', 'G', 'H', 'I', 'J', 'K', 'L', 'M', 'N', 'O', 'P', 'Q', 'R', 'S', 'T', 'U', 'V', 'W', 'X', 'Y', 'Z']\n",
    "numbers = ['0', '1', '2', '3', '4', '5', '6', '7', '8', '9']\n",
    "symbols = ['!', '#', '$', '%', '&', '*']\n",
    "\n",
    "letters_count = int(input(\"How may letter would you like in password: \"))\n",
    "symbols_count = int(input(\"How may symbols would you like in password: \"))\n",
    "numbers_count = int(input(\"How may numbers would you like in password: \"))\n",
    "\n",
    "# Easy Level\n",
    "password = \"\"\n",
    "\n",
    "# Letter\n",
    "for char in range(1, letters_count+1):\n",
    "    password += random.choice(letters)\n",
    "\n",
    "# Symbol\n",
    "for char in range(1, symbols_count+1):\n",
    "    password += random.choice(symbols)\n",
    "\n",
    "# Number\n",
    "for char in range(1, numbers_count+1):\n",
    "    password += random.choice(numbers)\n",
    "\n",
    "print(f\"Easy Password: {password}\")\n",
    "\n",
    "\n",
    "# Hard Password\n",
    "password_list = []\n",
    "\n",
    "# Letter\n",
    "for char in range(1, letters_count+1):\n",
    "    password_list += random.choice(letters)\n",
    "\n",
    "# Symbol\n",
    "for char in range(1, symbols_count+1):\n",
    "    password_list += random.choice(symbols)\n",
    "\n",
    "# Number\n",
    "for char in range(1, numbers_count+1):\n",
    "    password_list += random.choice(numbers)\n",
    "\n",
    "\n",
    "random.shuffle(password_list)\n",
    "\n",
    "password = \"\"\n",
    "for char in password_list:\n",
    "    password += char\n",
    "\n",
    "print(f\"Hard Password: {password}\")\n"
   ]
  },
  {
   "cell_type": "code",
   "execution_count": 3,
   "metadata": {},
   "outputs": [
    {
     "name": "stdout",
     "output_type": "stream",
     "text": [
      "[ 0  1  2  3  4  5  6  7  8  9 10 11 12 13 14 15 16 17 18 19 20 21 22 23\n",
      " 24 25 26 27 28 29 30 31 32 33 34 35 36 37 38 39 40 41 42 43 44 45 46 47\n",
      " 48 49 50 51 52 53 54 55 56 57 58 59 60 61 62 63 64 65 66 67 68 69 70 71\n",
      " 72 73 74 75 76 77 78 79 80 81 82 83 84 85 86 87 88 89 90 91 92 93 94 95\n",
      " 96 97 98 99]\n",
      "=====\n",
      "[50 52 54 56 58]\n"
     ]
    }
   ],
   "source": [
    "import numpy as np\n",
    "\n",
    "a = np.arange(100)\n",
    "b = a[50:60:2]\n",
    "\n",
    "print(a)\n",
    "print(\"=====\")\n",
    "print(b)\n"
   ]
  },
  {
   "cell_type": "code",
   "execution_count": 7,
   "metadata": {},
   "outputs": [
    {
     "name": "stdout",
     "output_type": "stream",
     "text": [
      "\n"
     ]
    }
   ],
   "source": [
    "def myFunc(cou=\"Dhaak\"):\n",
    "    print(cou)\n",
    "\n",
    "\n",
    "# myFunc()\n",
    "myFunc(\"\")\n"
   ]
  },
  {
   "cell_type": "code",
   "execution_count": 9,
   "metadata": {},
   "outputs": [
    {
     "name": "stdout",
     "output_type": "stream",
     "text": [
      "2\n"
     ]
    }
   ],
   "source": [
    "b = 17 % 15\n",
    "\n",
    "print(b)\n"
   ]
  },
  {
   "cell_type": "code",
   "execution_count": 2,
   "metadata": {},
   "outputs": [
    {
     "name": "stdout",
     "output_type": "stream",
     "text": [
      "Right\n",
      "Wrong\n",
      "Wrong\n",
      "Right\n",
      "Wrong\n",
      "Wrong\n",
      "Wrong\n"
     ]
    }
   ],
   "source": [
    "import random\n",
    "word_list = ['advance', 'make', 'going']\n",
    "chosen_word = random.choice(word_list)\n",
    "guess = input(\"Guess a Letter: \")\n",
    "\n",
    "for letter in chosen_word:\n",
    "    if letter == guess:\n",
    "        print(\"Right\")\n",
    "    else:\n",
    "        print(\"Wrong\")\n"
   ]
  },
  {
   "cell_type": "code",
   "execution_count": null,
   "metadata": {},
   "outputs": [],
   "source": [
    "import random\n",
    "stages = ['''\n",
    "  +---+\n",
    "  |   |\n",
    "  O   |\n",
    " /|\\  |\n",
    " / \\  |\n",
    "      |\n",
    "=========\n",
    "''', '''\n",
    "  +---+\n",
    "  |   |\n",
    "  O   |\n",
    " /|\\  |\n",
    " /    |\n",
    "      |\n",
    "=========\n",
    "''', '''\n",
    "  +---+\n",
    "  |   |\n",
    "  O   |\n",
    " /|\\  |\n",
    "      |\n",
    "      |\n",
    "=========\n",
    "''', '''\n",
    "  +---+\n",
    "  |   |\n",
    "  O   |\n",
    " /|   |\n",
    "      |\n",
    "      |\n",
    "=========''', '''\n",
    "  +---+\n",
    "  |   |\n",
    "  O   |\n",
    "  |   |\n",
    "      |\n",
    "      |\n",
    "=========\n",
    "''', '''\n",
    "  +---+\n",
    "  |   |\n",
    "  O   |\n",
    "      |\n",
    "      |\n",
    "      |\n",
    "=========\n",
    "''', '''\n",
    "  +---+\n",
    "  |   |\n",
    "      |\n",
    "      |\n",
    "      |\n",
    "      |\n",
    "=========\n",
    "''']\n",
    "end_of_game = False\n",
    "word_list = []\n",
    "with open('word.txt', 'r') as file:\n",
    "    for line in file:\n",
    "        word = line.strip()\n",
    "        word_list.append(word)\n",
    "\n",
    "chosen_word = random.choice(word_list)\n",
    "word_lenth = len(chosen_word)\n",
    "print(f\"The word is {chosen_word}\\n\")\n",
    "\n",
    "lives = 6\n",
    "\n",
    "display = []\n",
    "for _ in range(word_lenth):\n",
    "    display += \"_\"\n",
    "\n",
    "# print(display)\n",
    "\n",
    "# for letter in chosen_word:\n",
    "#     display += \"_\"\n",
    "# print(display)\n",
    "\n",
    "\n",
    "while not end_of_game:\n",
    "    guess = input(\"Guess a Letter: \").lower()\n",
    "\n",
    "    for position in range(word_lenth):\n",
    "        letter = chosen_word[position]\n",
    "        # print(f\"Current position: {position}\\n Current letter: {letter}\\n Guessed letter: {guess}\")\n",
    "        if letter == guess:\n",
    "            display[position] = letter\n",
    "\n",
    "    if guess not in chosen_word:\n",
    "        lives -= 1\n",
    "        if lives == 0:\n",
    "            end_of_game = True\n",
    "            print(\"You lose.\")\n",
    "\n",
    "    print(f\"{' '.join(display)}\")\n",
    "\n",
    "    if \"_\" not in display:\n",
    "        end_of_game = True\n",
    "        print(\"You've won.\")\n",
    "\n",
    "    print(stages[lives])\n"
   ]
  },
  {
   "cell_type": "code",
   "execution_count": 4,
   "metadata": {},
   "outputs": [
    {
     "name": "stdout",
     "output_type": "stream",
     "text": [
      "Hello\n"
     ]
    }
   ],
   "source": [
    "def greet():\n",
    "    print(\"Hello\")\n",
    "\n",
    "\n",
    "greet()\n"
   ]
  },
  {
   "cell_type": "code",
   "execution_count": 6,
   "metadata": {},
   "outputs": [
    {
     "name": "stdout",
     "output_type": "stream",
     "text": [
      "Tanim\n"
     ]
    }
   ],
   "source": [
    "def greet_with_name(name):\n",
    "    print(name)\n",
    "\n",
    "\n",
    "greet_with_name(input(\"Enter your Name: \"))\n"
   ]
  },
  {
   "cell_type": "code",
   "execution_count": 2,
   "metadata": {},
   "outputs": [
    {
     "name": "stdout",
     "output_type": "stream",
     "text": [
      "Name: Saklayen\n",
      "Location: Dhaka\n"
     ]
    }
   ],
   "source": [
    "def greet_with(name, location):\n",
    "    print(f\"Name: {name}\")\n",
    "    print(f\"Location: {location}\")\n",
    "\n",
    "\n",
    "name = input(\"Name: \")\n",
    "location = input(\"Location: \")\n",
    "greet_with(name, location)\n"
   ]
  },
  {
   "cell_type": "code",
   "execution_count": 4,
   "metadata": {},
   "outputs": [
    {
     "name": "stdout",
     "output_type": "stream",
     "text": [
      "Name: Saklayen\n",
      "Location: Gazipur\n"
     ]
    }
   ],
   "source": [
    "def greet_with(name, location):\n",
    "    print(f\"Name: {name}\")\n",
    "    print(f\"Location: {location}\")\n",
    "\n",
    "\n",
    "# name = input(\"Name: \")\n",
    "# location = input(\"Location: \")\n",
    "greet_with(name=\"Saklayen\", location=\"Gazipur\")\n"
   ]
  },
  {
   "cell_type": "code",
   "execution_count": 5,
   "metadata": {},
   "outputs": [
    {
     "name": "stdout",
     "output_type": "stream",
     "text": [
      "You will need 3 cans of paint\n"
     ]
    }
   ],
   "source": [
    "import math\n",
    "test_h = int(input(\"Height: \"))\n",
    "test_w = int(input(\"Width: \"))\n",
    "\n",
    "coverage = 5\n",
    "\n",
    "\n",
    "def paint_calc(height, width, cover):\n",
    "    area = height * width\n",
    "    num_of_cans = math.ceil(area / cover)\n",
    "    print(f\"You will need {num_of_cans} cans of paint\")\n",
    "\n",
    "\n",
    "paint_calc(height=test_h, width=test_w, cover=coverage)\n"
   ]
  },
  {
   "cell_type": "code",
   "execution_count": 15,
   "metadata": {},
   "outputs": [
    {
     "name": "stdout",
     "output_type": "stream",
     "text": [
      "75 is not a prime number.\n"
     ]
    }
   ],
   "source": [
    "n = int(input(\"Enter number to check: \"))\n",
    "\n",
    "\n",
    "def prime_checker(number):\n",
    "    is_prime = True\n",
    "    for i in range(2, number):\n",
    "        if number % i == 0:\n",
    "            is_prime = False\n",
    "\n",
    "    if is_prime == True:\n",
    "        print(f\"{number} is a prime number.\")\n",
    "    else:\n",
    "        print(f\"{number} is not a prime number.\")\n",
    "\n",
    "\n",
    "prime_checker(number=n)\n"
   ]
  },
  {
   "cell_type": "code",
   "execution_count": 1,
   "metadata": {},
   "outputs": [
    {
     "ename": "ValueError",
     "evalue": "invalid literal for int() with base 10: 'tanim'",
     "output_type": "error",
     "traceback": [
      "\u001b[1;31m---------------------------------------------------------------------------\u001b[0m",
      "\u001b[1;31mValueError\u001b[0m                                Traceback (most recent call last)",
      "Cell \u001b[1;32mIn [1], line 3\u001b[0m\n\u001b[0;32m      1\u001b[0m alphabet \u001b[38;5;241m=\u001b[39m [\u001b[38;5;124m'\u001b[39m\u001b[38;5;124ma\u001b[39m\u001b[38;5;124m'\u001b[39m, \u001b[38;5;124m'\u001b[39m\u001b[38;5;124mb\u001b[39m\u001b[38;5;124m'\u001b[39m, \u001b[38;5;124m'\u001b[39m\u001b[38;5;124mc\u001b[39m\u001b[38;5;124m'\u001b[39m, \u001b[38;5;124m'\u001b[39m\u001b[38;5;124md\u001b[39m\u001b[38;5;124m'\u001b[39m, \u001b[38;5;124m'\u001b[39m\u001b[38;5;124me\u001b[39m\u001b[38;5;124m'\u001b[39m, \u001b[38;5;124m'\u001b[39m\u001b[38;5;124mf\u001b[39m\u001b[38;5;124m'\u001b[39m, \u001b[38;5;124m'\u001b[39m\u001b[38;5;124mg\u001b[39m\u001b[38;5;124m'\u001b[39m, \u001b[38;5;124m'\u001b[39m\u001b[38;5;124mh\u001b[39m\u001b[38;5;124m'\u001b[39m, \u001b[38;5;124m'\u001b[39m\u001b[38;5;124mi\u001b[39m\u001b[38;5;124m'\u001b[39m, \u001b[38;5;124m'\u001b[39m\u001b[38;5;124mj\u001b[39m\u001b[38;5;124m'\u001b[39m, \u001b[38;5;124m'\u001b[39m\u001b[38;5;124mk\u001b[39m\u001b[38;5;124m'\u001b[39m, \u001b[38;5;124m'\u001b[39m\u001b[38;5;124ml\u001b[39m\u001b[38;5;124m'\u001b[39m, \u001b[38;5;124m'\u001b[39m\u001b[38;5;124mm\u001b[39m\u001b[38;5;124m'\u001b[39m, \u001b[38;5;124m'\u001b[39m\u001b[38;5;124mn\u001b[39m\u001b[38;5;124m'\u001b[39m, \u001b[38;5;124m'\u001b[39m\u001b[38;5;124mo\u001b[39m\u001b[38;5;124m'\u001b[39m, \u001b[38;5;124m'\u001b[39m\u001b[38;5;124mp\u001b[39m\u001b[38;5;124m'\u001b[39m, \u001b[38;5;124m'\u001b[39m\u001b[38;5;124mq\u001b[39m\u001b[38;5;124m'\u001b[39m, \u001b[38;5;124m'\u001b[39m\u001b[38;5;124mr\u001b[39m\u001b[38;5;124m'\u001b[39m, \u001b[38;5;124m'\u001b[39m\u001b[38;5;124ms\u001b[39m\u001b[38;5;124m'\u001b[39m, \u001b[38;5;124m'\u001b[39m\u001b[38;5;124mt\u001b[39m\u001b[38;5;124m'\u001b[39m, \u001b[38;5;124m'\u001b[39m\u001b[38;5;124mu\u001b[39m\u001b[38;5;124m'\u001b[39m, \u001b[38;5;124m'\u001b[39m\u001b[38;5;124mv\u001b[39m\u001b[38;5;124m'\u001b[39m, \u001b[38;5;124m'\u001b[39m\u001b[38;5;124mw\u001b[39m\u001b[38;5;124m'\u001b[39m, \u001b[38;5;124m'\u001b[39m\u001b[38;5;124mx\u001b[39m\u001b[38;5;124m'\u001b[39m, \u001b[38;5;124m'\u001b[39m\u001b[38;5;124my\u001b[39m\u001b[38;5;124m'\u001b[39m, \u001b[38;5;124m'\u001b[39m\u001b[38;5;124mz\u001b[39m\u001b[38;5;124m'\u001b[39m,\u001b[38;5;124m'\u001b[39m\u001b[38;5;124ma\u001b[39m\u001b[38;5;124m'\u001b[39m, \u001b[38;5;124m'\u001b[39m\u001b[38;5;124mb\u001b[39m\u001b[38;5;124m'\u001b[39m, \u001b[38;5;124m'\u001b[39m\u001b[38;5;124mc\u001b[39m\u001b[38;5;124m'\u001b[39m, \u001b[38;5;124m'\u001b[39m\u001b[38;5;124md\u001b[39m\u001b[38;5;124m'\u001b[39m, \u001b[38;5;124m'\u001b[39m\u001b[38;5;124me\u001b[39m\u001b[38;5;124m'\u001b[39m, \u001b[38;5;124m'\u001b[39m\u001b[38;5;124mf\u001b[39m\u001b[38;5;124m'\u001b[39m, \u001b[38;5;124m'\u001b[39m\u001b[38;5;124mg\u001b[39m\u001b[38;5;124m'\u001b[39m, \u001b[38;5;124m'\u001b[39m\u001b[38;5;124mh\u001b[39m\u001b[38;5;124m'\u001b[39m, \u001b[38;5;124m'\u001b[39m\u001b[38;5;124mi\u001b[39m\u001b[38;5;124m'\u001b[39m, \u001b[38;5;124m'\u001b[39m\u001b[38;5;124mj\u001b[39m\u001b[38;5;124m'\u001b[39m, \u001b[38;5;124m'\u001b[39m\u001b[38;5;124mk\u001b[39m\u001b[38;5;124m'\u001b[39m, \u001b[38;5;124m'\u001b[39m\u001b[38;5;124ml\u001b[39m\u001b[38;5;124m'\u001b[39m, \u001b[38;5;124m'\u001b[39m\u001b[38;5;124mm\u001b[39m\u001b[38;5;124m'\u001b[39m, \u001b[38;5;124m'\u001b[39m\u001b[38;5;124mn\u001b[39m\u001b[38;5;124m'\u001b[39m, \u001b[38;5;124m'\u001b[39m\u001b[38;5;124mo\u001b[39m\u001b[38;5;124m'\u001b[39m, \u001b[38;5;124m'\u001b[39m\u001b[38;5;124mp\u001b[39m\u001b[38;5;124m'\u001b[39m, \u001b[38;5;124m'\u001b[39m\u001b[38;5;124mq\u001b[39m\u001b[38;5;124m'\u001b[39m, \u001b[38;5;124m'\u001b[39m\u001b[38;5;124mr\u001b[39m\u001b[38;5;124m'\u001b[39m, \u001b[38;5;124m'\u001b[39m\u001b[38;5;124ms\u001b[39m\u001b[38;5;124m'\u001b[39m, \u001b[38;5;124m'\u001b[39m\u001b[38;5;124mt\u001b[39m\u001b[38;5;124m'\u001b[39m, \u001b[38;5;124m'\u001b[39m\u001b[38;5;124mu\u001b[39m\u001b[38;5;124m'\u001b[39m, \u001b[38;5;124m'\u001b[39m\u001b[38;5;124mv\u001b[39m\u001b[38;5;124m'\u001b[39m, \u001b[38;5;124m'\u001b[39m\u001b[38;5;124mw\u001b[39m\u001b[38;5;124m'\u001b[39m, \u001b[38;5;124m'\u001b[39m\u001b[38;5;124mx\u001b[39m\u001b[38;5;124m'\u001b[39m, \u001b[38;5;124m'\u001b[39m\u001b[38;5;124my\u001b[39m\u001b[38;5;124m'\u001b[39m, \u001b[38;5;124m'\u001b[39m\u001b[38;5;124mz\u001b[39m\u001b[38;5;124m'\u001b[39m]\n\u001b[1;32m----> 3\u001b[0m direction \u001b[38;5;241m=\u001b[39m \u001b[38;5;28;43mint\u001b[39;49m\u001b[43m(\u001b[49m\u001b[38;5;28;43minput\u001b[39;49m\u001b[43m(\u001b[49m\n\u001b[0;32m      4\u001b[0m \u001b[43m    \u001b[49m\u001b[38;5;124;43;03m'''\u001b[39;49;00m\n\u001b[0;32m      5\u001b[0m \u001b[38;5;124;43;03m    Please select the option below:\\n\u001b[39;49;00m\n\u001b[0;32m      6\u001b[0m \u001b[38;5;124;43;03m    1. Encrypt\\n\u001b[39;49;00m\n\u001b[0;32m      7\u001b[0m \u001b[38;5;124;43;03m    2. Decrypt\\n\u001b[39;49;00m\n\u001b[0;32m      8\u001b[0m \u001b[38;5;124;43;03m    '''\u001b[39;49;00m\n\u001b[0;32m      9\u001b[0m \u001b[43m)\u001b[49m\u001b[43m)\u001b[49m\n\u001b[0;32m     10\u001b[0m text \u001b[38;5;241m=\u001b[39m \u001b[38;5;28minput\u001b[39m(\u001b[38;5;124m\"\u001b[39m\u001b[38;5;124mType your message:\u001b[39m\u001b[38;5;130;01m\\n\u001b[39;00m\u001b[38;5;124m\"\u001b[39m)\u001b[38;5;241m.\u001b[39mlower()\n\u001b[0;32m     11\u001b[0m shift \u001b[38;5;241m=\u001b[39m \u001b[38;5;28mint\u001b[39m(\u001b[38;5;28minput\u001b[39m(\u001b[38;5;124m\"\u001b[39m\u001b[38;5;124mType the shift number:\u001b[39m\u001b[38;5;130;01m\\n\u001b[39;00m\u001b[38;5;124m\"\u001b[39m))\n",
      "\u001b[1;31mValueError\u001b[0m: invalid literal for int() with base 10: 'tanim'"
     ]
    }
   ],
   "source": [
    "alphabet = ['a', 'b', 'c', 'd', 'e', 'f', 'g', 'h', 'i', 'j', 'k', 'l', 'm', 'n', 'o', 'p', 'q', 'r', 's', 't', 'u', 'v', 'w', 'x', 'y',\n",
    "            'z', 'a', 'b', 'c', 'd', 'e', 'f', 'g', 'h', 'i', 'j', 'k', 'l', 'm', 'n', 'o', 'p', 'q', 'r', 's', 't', 'u', 'v', 'w', 'x', 'y', 'z']\n",
    "\n",
    "direction = int(input(\n",
    "    '''\n",
    "    Please select the option below:\\n\n",
    "    1. Encrypt\\n\n",
    "    2. Decrypt\\n\n",
    "    '''\n",
    "))\n",
    "text = input(\"Type your message:\\n\").lower()\n",
    "shift = int(input(\"Type the shift number:\\n\"))\n",
    "\n",
    "\n",
    "def encrypt(plain_text, shift_amount):\n",
    "    cipher_text = \"\"\n",
    "    for letter in plain_text:\n",
    "        position = alphabet.index(letter)\n",
    "        new_position = position + shift_amount\n",
    "        new_letter = alphabet[new_position]\n",
    "        cipher_text += new_letter\n",
    "    print(f\"The encoded text: {cipher_text}\")\n",
    "\n",
    "\n",
    "def decrypt(cipher_text, shift_amount):\n",
    "    plain_text = \"\"\n",
    "    for letter in cipher_text:\n",
    "        position = alphabet.index(letter)\n",
    "        new_position = position - shift_amount\n",
    "        plain_text += alphabet[new_position]\n",
    "    print(f\"The decoded text: {plain_text}\")\n",
    "\n",
    "\n",
    "if direction == 1:\n",
    "    encrypt(plain_text=text, shift_amount=shift)\n",
    "elif direction == 2:\n",
    "    decrypt(cipher_text=text, shift_amount=shift)\n"
   ]
  },
  {
   "cell_type": "code",
   "execution_count": 31,
   "metadata": {},
   "outputs": [
    {
     "name": "stdout",
     "output_type": "stream",
     "text": [
      "100\n"
     ]
    }
   ],
   "source": [
    "print(100)\n"
   ]
  },
  {
   "cell_type": "code",
   "execution_count": 32,
   "metadata": {},
   "outputs": [
    {
     "name": "stdout",
     "output_type": "stream",
     "text": [
      "(3+0j)\n"
     ]
    }
   ],
   "source": [
    "number = 3\n",
    "view = complex(number)\n",
    "print(view)\n"
   ]
  },
  {
   "cell_type": "code",
   "execution_count": 33,
   "metadata": {},
   "outputs": [
    {
     "name": "stdout",
     "output_type": "stream",
     "text": [
      "1\n"
     ]
    }
   ],
   "source": [
    "for num in range(1, 1+1):\n",
    "    print(num)\n"
   ]
  },
  {
   "cell_type": "code",
   "execution_count": 34,
   "metadata": {},
   "outputs": [
    {
     "name": "stdout",
     "output_type": "stream",
     "text": [
      "1\n"
     ]
    }
   ],
   "source": [
    "listVariable = [\"apple\"]\n",
    "\n",
    "itemCount = len(listVariable)\n",
    "\n",
    "print(itemCount)\n"
   ]
  },
  {
   "cell_type": "code",
   "execution_count": 11,
   "metadata": {},
   "outputs": [
    {
     "name": "stdout",
     "output_type": "stream",
     "text": [
      "Not prime number\n"
     ]
    }
   ],
   "source": [
    "def prime_checker(number):\n",
    "    is_prime = True\n",
    "    for i in range(2, number):\n",
    "        if number % 1 == 0:\n",
    "            is_prime = False\n",
    "\n",
    "    if is_prime:\n",
    "        print(\"Its prime number\")\n",
    "    else:\n",
    "        print(\"Not prime number\")\n",
    "\n",
    "\n",
    "n = int(input())\n",
    "prime_checker(n)\n"
   ]
  },
  {
   "cell_type": "code",
   "execution_count": 2,
   "metadata": {},
   "outputs": [
    {
     "name": "stdout",
     "output_type": "stream",
     "text": [
      "           \n",
      " ,adPPYba, ,adPPYYba,  ,adPPYba, ,adPPYba, ,adPPYYba, 8b,dPPYba,  \n",
      "a8\"     \"\" \"\"     `Y8 a8P_____88 I8[    \"\" \"\"     `Y8 88P'   \"Y8  \n",
      "8b         ,adPPPPP88 8PP\"  `\"Y8ba,  ,adPPPPP88 88          \n",
      "\"8a,   ,aa 88,    ,88 \"8b,   ,aa aa    ]8I 88,    ,88 88          \n",
      " `\"Ybbd8\"' `\"8bbdP\"Y8  `\"Ybbd8\"' `\"YbbdP\"' `\"8bbdP\"Y8 88   \n",
      "            88             88                                 \n",
      "           \"\"             88                                 \n",
      "                          88                                 \n",
      " ,adPPYba, 88 8b,dPPYba,  88,dPPYba,   ,adPPYba, 8b,dPPYba,  \n",
      "a8\"     \"\" 88 88P'    \"8a 88P'    \"8a a8P_____88 88P'   \"Y8  \n",
      "8b         88 88       d8 88       88 8PP\" 88          \n",
      "\"8a,   ,aa 88 88b,   ,a8\" 88       88 \"8b,   ,aa 88          \n",
      " `\"Ybbd8\"' 88 88`YbbdP\"'  88       88  `\"Ybbd8\"' 88          \n",
      "              88                                             \n",
      "              88           \n",
      "\n",
      "The encoded text is weopecir\n",
      "The decoded text is saklayen\n"
     ]
    },
    {
     "ename": "ValueError",
     "evalue": "invalid literal for int() with base 10: ''",
     "output_type": "error",
     "traceback": [
      "\u001b[1;31m---------------------------------------------------------------------------\u001b[0m",
      "\u001b[1;31mValueError\u001b[0m                                Traceback (most recent call last)",
      "Cell \u001b[1;32mIn [2], line 25\u001b[0m\n\u001b[0;32m     23\u001b[0m direction \u001b[38;5;241m=\u001b[39m \u001b[38;5;28minput\u001b[39m(\u001b[38;5;124m\"\u001b[39m\u001b[38;5;124mType \u001b[39m\u001b[38;5;124m'\u001b[39m\u001b[38;5;124mencode\u001b[39m\u001b[38;5;124m'\u001b[39m\u001b[38;5;124m to encrypt, type \u001b[39m\u001b[38;5;124m'\u001b[39m\u001b[38;5;124mdecode\u001b[39m\u001b[38;5;124m'\u001b[39m\u001b[38;5;124m to decrypt:\u001b[39m\u001b[38;5;130;01m\\n\u001b[39;00m\u001b[38;5;124m\"\u001b[39m)\n\u001b[0;32m     24\u001b[0m text \u001b[38;5;241m=\u001b[39m \u001b[38;5;28minput\u001b[39m(\u001b[38;5;124m\"\u001b[39m\u001b[38;5;124mType your message:\u001b[39m\u001b[38;5;130;01m\\n\u001b[39;00m\u001b[38;5;124m\"\u001b[39m)\u001b[38;5;241m.\u001b[39mlower()\n\u001b[1;32m---> 25\u001b[0m shift \u001b[38;5;241m=\u001b[39m \u001b[38;5;28;43mint\u001b[39;49m\u001b[43m(\u001b[49m\u001b[38;5;28;43minput\u001b[39;49m\u001b[43m(\u001b[49m\u001b[38;5;124;43m\"\u001b[39;49m\u001b[38;5;124;43mType the shift number:\u001b[39;49m\u001b[38;5;130;43;01m\\n\u001b[39;49;00m\u001b[38;5;124;43m\"\u001b[39;49m\u001b[43m)\u001b[49m\u001b[43m)\u001b[49m\n\u001b[0;32m     27\u001b[0m total_alphabet \u001b[38;5;241m=\u001b[39m \u001b[38;5;28mlen\u001b[39m(alphabet)\n\u001b[0;32m     28\u001b[0m shift \u001b[38;5;241m=\u001b[39m shift \u001b[38;5;241m%\u001b[39m total_alphabet\n",
      "\u001b[1;31mValueError\u001b[0m: invalid literal for int() with base 10: ''"
     ]
    }
   ],
   "source": [
    "from art import logo\n",
    "alphabet = ['a', 'b', 'c', 'd', 'e', 'f', 'g', 'h', 'i', 'j', 'k', 'l', 'm', 'n', 'o', 'p', 'q', 'r', 's', 't', 'u', 'v', 'w', 'x', 'y',\n",
    "            'z', 'a', 'b', 'c', 'd', 'e', 'f', 'g', 'h', 'i', 'j', 'k', 'l', 'm', 'n', 'o', 'p', 'q', 'r', 's', 't', 'u', 'v', 'w', 'x', 'y', 'z']\n",
    "\n",
    "\n",
    "def caesar(start_text, shift_amount, cipher_direction):\n",
    "    end_text = \"\"\n",
    "    if cipher_direction == \"decode\":\n",
    "        shift_amount *= -1\n",
    "    for char in start_text:\n",
    "        if char in alphabet:\n",
    "            position = alphabet.index(char)\n",
    "            new_position = position+shift_amount\n",
    "            end_text += alphabet[new_position]\n",
    "        else:\n",
    "            end_text += char\n",
    "    print(f\"The {cipher_direction}d text is {end_text}\")\n",
    "\n",
    "\n",
    "print(logo)\n",
    "\n",
    "should_continue = True\n",
    "\n",
    "while should_continue:\n",
    "\n",
    "    direction = input(\"Type 'encode' to encrypt, type 'decode' to decrypt:\\n\")\n",
    "    text = input(\"Type your message:\\n\").lower()\n",
    "    shift = int(input(\"Type the shift number:\\n\"))\n",
    "\n",
    "    total_alphabet = len(alphabet)\n",
    "    shift = shift % total_alphabet\n",
    "    caesar(start_text=text, shift_amount=shift, cipher_direction=direction)\n",
    "\n",
    "    result = input(\"Type 'yes' to run again, or type 'no' to decline.\")\n",
    "    if result == 'no':\n",
    "        should_continue = False\n",
    "        print(\"Good Bye\")\n"
   ]
  },
  {
   "cell_type": "code",
   "execution_count": 33,
   "metadata": {},
   "outputs": [
    {
     "name": "stdout",
     "output_type": "stream",
     "text": [
      "{}\n"
     ]
    }
   ],
   "source": [
    "programming_dictionary = {\n",
    "    \"Bug\": \"An error in a program that prevents the program from running as expected.\",\n",
    "    \"Function\": \"A piece of code that you can easily call over and over again.\"\n",
    "}\n",
    "\n",
    "# print(programming_dictionary[\"Bug\"])\n",
    "\n",
    "# adding new items\n",
    "\n",
    "programming_dictionary['Loop'] = \"New added for Loop\"\n",
    "\n",
    "# print(programming_dictionary)\n",
    "\n",
    "# emplty dic\n",
    "empty_dic = {}\n",
    "\n",
    "programming_dictionary = {}\n",
    "# wipe dic\n",
    "print(programming_dictionary)\n"
   ]
  },
  {
   "cell_type": "code",
   "execution_count": 35,
   "metadata": {},
   "outputs": [
    {
     "name": "stdout",
     "output_type": "stream",
     "text": [
      "{'Bug': 'New updated for bug.', 'Function': 'A piece of code that you can easily call over and over again.'}\n"
     ]
    }
   ],
   "source": [
    "programming_dictionary = {\n",
    "    \"Bug\": \"An error in a program that prevents the program from running as expected.\",\n",
    "    \"Function\": \"A piece of code that you can easily call over and over again.\"\n",
    "}\n",
    "programming_dictionary['Bug'] = \"New updated for bug.\"\n",
    "\n",
    "print(programming_dictionary)\n"
   ]
  },
  {
   "cell_type": "code",
   "execution_count": 38,
   "metadata": {},
   "outputs": [
    {
     "name": "stdout",
     "output_type": "stream",
     "text": [
      "Bug\n",
      "An error in a program that prevents the program from running as expected.\n",
      "Function\n",
      "A piece of code that you can easily call over and over again.\n"
     ]
    }
   ],
   "source": [
    "programming_dictionary = {\n",
    "    \"Bug\": \"An error in a program that prevents the program from running as expected.\",\n",
    "    \"Function\": \"A piece of code that you can easily call over and over again.\"\n",
    "}\n",
    "\n",
    "\n",
    "# for loop\n",
    "\n",
    "for key in programming_dictionary:\n",
    "    print(key)\n",
    "    print(programming_dictionary[key])\n"
   ]
  },
  {
   "cell_type": "code",
   "execution_count": 9,
   "metadata": {},
   "outputs": [
    {
     "name": "stdout",
     "output_type": "stream",
     "text": [
      "[{'country': 'France', 'cities_visited': ['Paris', 'Lille', 'Dujon'], 'total_visits': 12}, {'country': 'Germany', 'cities_visited': ['Berlin', 'Hamberg', 'Stuttgart'], 'total_visits': 5}, {'country': 'BD', 'total_visits': 12, 'cities_visited': ['Berlin', 'Hamberg', 'Stuttgart']}]\n"
     ]
    }
   ],
   "source": [
    "# {\n",
    "#     key: [list],\n",
    "#     key2: {dict},\n",
    "# }\n",
    "\n",
    "\n",
    "capitals = {\n",
    "    'France': \"Paris\",\n",
    "    \"Germany\": \"Berlin\"\n",
    "}\n",
    "\n",
    "# Nesting List\n",
    "\n",
    "travel_log = {\n",
    "    \"France\": [\"Paris\", \"Lille\", \"Dujon\"],\n",
    "    \"Germany\": [\"Berlin\", \"Hamberg\", \"Stuttgart\"],\n",
    "}\n",
    "\n",
    "# Nesting Dictionry\n",
    "\n",
    "travel_log = {\n",
    "    \"France\": {\n",
    "        \"cities_visited\": [\"Paris\", \"Lille\", \"Dujon\"],\n",
    "        \"total_visits\": 12,\n",
    "    },\n",
    "    \"Germany\": {\n",
    "        \"cities_visited\": [\"Berlin\", \"Hamberg\", \"Stuttgart\"],\n",
    "        \"total_visits\": 5,\n",
    "    },\n",
    "}\n",
    "\n",
    "# Nesting a dictionary in a List\n",
    "# travel_log = []\n",
    "\n",
    "travel_log = [\n",
    "    {\n",
    "        \"country\": \"France\",\n",
    "        \"cities_visited\": [\"Paris\", \"Lille\", \"Dujon\"],\n",
    "        \"total_visits\": 12,\n",
    "    },\n",
    "    {\"country\": \"Germany\",\n",
    "        \"cities_visited\": [\"Berlin\", \"Hamberg\", \"Stuttgart\"],\n",
    "        \"total_visits\": 5,\n",
    "     },\n",
    "]\n",
    "\n",
    "\n",
    "def add_new_country(name, time_visited, cities_visited):\n",
    "    new_country = {}\n",
    "    new_country['country'] = name\n",
    "    new_country['total_visits'] = time_visited\n",
    "    new_country['cities_visited'] = cities_visited\n",
    "    travel_log.append(new_country)\n",
    "\n",
    "\n",
    "country = input(\"Enter Country Name: \")\n",
    "visits = int(input(\"Enter time visited: \"))\n",
    "list_of_cities = eval(input(\"Enter City name: \"))\n",
    "\n",
    "add_new_country(country, visits, list_of_cities)\n",
    "# print(f\"I have been to {travel_log[2]['country']} {travel_log[2]['total_visits']}\")\n",
    "# print(f\"My cities {travel_log[2]['cities_visited'][0]}\")\n",
    "\n",
    "print(travel_log)\n",
    "\n",
    "# print(f\"I have been to {travel_log[0]['country']} {travel_log[0]['total_visits']}\")\n",
    "# print(f\"My cities {travel_log[0]['cities_visited'][0]}\")\n",
    "\n",
    "# [\n",
    "#     {\n",
    "#         'country': 'France',\n",
    "#         'cities_visited': ['Paris', 'Lille', 'Dujon'], 'total_visits': 12\n",
    "#     },\n",
    "#     {\n",
    "#         'country': 'Germany',\n",
    "#         'cities_visited': ['Berlin', 'Hamberg', 'Stuttgart'],\n",
    "#         'total_visits': 5\n",
    "#     },\n",
    "#     {\n",
    "#         'country': 'BD',\n",
    "#         'total_visits': 12,\n",
    "#         'cities_visited': ['Berlin', 'Hamberg', 'Stuttgart']\n",
    "#     }\n",
    "# ]\n"
   ]
  },
  {
   "cell_type": "code",
   "execution_count": 11,
   "metadata": {},
   "outputs": [
    {
     "name": "stdout",
     "output_type": "stream",
     "text": [
      "The winer is Tanim with a bid of $500\n"
     ]
    }
   ],
   "source": [
    "from IPython.display import clear_output\n",
    "bids = {}\n",
    "bidding_finished = False\n",
    "\n",
    "\n",
    "def find_highest_bidder(bidding_record):\n",
    "    highest_bid = 0\n",
    "    winner = \"\"\n",
    "    for bidder in bidding_record:\n",
    "        bid_amount = bidding_record[bidder]\n",
    "        if bid_amount > highest_bid:\n",
    "            highest_bid = bid_amount\n",
    "            winner = bidder\n",
    "    print(f\"The winer is {winner} with a bid of ${highest_bid}\")\n",
    "\n",
    "\n",
    "while not bidding_finished:\n",
    "    name = input(\"Enter your name: \")\n",
    "    price = int(input(\"Your bid price: $ \"))\n",
    "    bids[name] = price\n",
    "    should_continue = input(\"Are there any other bidders? Type 'yes' or 'no'\")\n",
    "    if should_continue == \"no\":\n",
    "        bidding_finished = True\n",
    "        find_highest_bidder(bids)\n",
    "    elif should_continue == \"yes\":\n",
    "        clear_output()\n"
   ]
  },
  {
   "cell_type": "code",
   "execution_count": 27,
   "metadata": {},
   "outputs": [
    {
     "name": "stdout",
     "output_type": "stream",
     "text": [
      "You did not provide anything.\n"
     ]
    }
   ],
   "source": [
    "# function with output\n",
    "def format_name(f_name, l_name):\n",
    "\n",
    "    if f_name == \"\" or l_name == \"\":\n",
    "        return \"You did not provide anything.\"\n",
    "\n",
    "    formatted_f_name = f_name.title()\n",
    "    formatted_l_name = l_name.title()\n",
    "\n",
    "    return f\"Result: {formatted_f_name} {formatted_l_name}\"\n",
    "\n",
    "# formatted_name = format_name(\"SaKlAyen\", \"tAnim\")\n",
    "# print(formatted_name)\n",
    "\n",
    "\n",
    "print(format_name(input(\"First Name: \"), input(\"Last Name: \")))\n"
   ]
  },
  {
   "cell_type": "code",
   "execution_count": 23,
   "metadata": {},
   "outputs": [
    {
     "data": {
      "text/plain": [
       "8"
      ]
     },
     "execution_count": 23,
     "metadata": {},
     "output_type": "execute_result"
    }
   ],
   "source": [
    "# length  = len(formatted_name)\n",
    "\n",
    "# function with output\n",
    "def format_name(f_name, l_name):\n",
    "    \"\"\"Take a first and last name and format it to return the title case version of the name \"\"\"\n",
    "\n",
    "    if f_name == \"\" or l_name == \"\":\n",
    "        return \"You did not provide anything.\"\n",
    "\n",
    "    formatted_f_name = f_name.title()\n",
    "    formatted_l_name = l_name.title()\n",
    "\n",
    "    return f\"Result: {formatted_f_name} {formatted_l_name}\"\n",
    "\n",
    "\n",
    "format_name()\n"
   ]
  },
  {
   "cell_type": "code",
   "execution_count": 28,
   "metadata": {},
   "outputs": [
    {
     "name": "stdout",
     "output_type": "stream",
     "text": [
      "15\n"
     ]
    }
   ],
   "source": [
    "def outer_function(a, b):\n",
    "    def inner_function(c, d):\n",
    "        return c + d\n",
    "    return inner_function(a, b)\n",
    "\n",
    "\n",
    "result = outer_function(5, 10)\n",
    "print(result)\n"
   ]
  },
  {
   "cell_type": "code",
   "execution_count": 30,
   "metadata": {},
   "outputs": [
    {
     "name": "stdout",
     "output_type": "stream",
     "text": [
      "None\n"
     ]
    }
   ],
   "source": [
    "def my_function(a):\n",
    "    if a < 40:\n",
    "        return  # end of the if condition\n",
    "        print(\"Terrible\")\n",
    "    if a < 80:\n",
    "        return \"Pass\"\n",
    "    else:\n",
    "        return \"Great\"\n",
    "\n",
    "\n",
    "print(my_function(25))\n"
   ]
  },
  {
   "cell_type": "code",
   "execution_count": 43,
   "metadata": {},
   "outputs": [
    {
     "name": "stdout",
     "output_type": "stream",
     "text": [
      "+\n",
      "-\n",
      "*\n",
      "/\n",
      "4.5 + 0.5 = 5.0\n",
      "5.0 + 6.0 = 11.0\n",
      "11.0 * 5.0 = 55.0\n",
      "55.0 + 4.7 = 59.7\n"
     ]
    },
    {
     "ename": "ValueError",
     "evalue": "could not convert string to float: ''",
     "output_type": "error",
     "traceback": [
      "\u001b[1;31m---------------------------------------------------------------------------\u001b[0m",
      "\u001b[1;31mValueError\u001b[0m                                Traceback (most recent call last)",
      "Cell \u001b[1;32mIn [43], line 50\u001b[0m\n\u001b[0;32m     47\u001b[0m             should_continue \u001b[38;5;241m=\u001b[39m \u001b[38;5;28;01mFalse\u001b[39;00m\n\u001b[0;32m     48\u001b[0m             calculator()\n\u001b[1;32m---> 50\u001b[0m \u001b[43mcalculator\u001b[49m\u001b[43m(\u001b[49m\u001b[43m)\u001b[49m\n",
      "Cell \u001b[1;32mIn [43], line 48\u001b[0m, in \u001b[0;36mcalculator\u001b[1;34m()\u001b[0m\n\u001b[0;32m     46\u001b[0m \u001b[38;5;28;01melse\u001b[39;00m:\n\u001b[0;32m     47\u001b[0m     should_continue \u001b[38;5;241m=\u001b[39m \u001b[38;5;28;01mFalse\u001b[39;00m\n\u001b[1;32m---> 48\u001b[0m     \u001b[43mcalculator\u001b[49m\u001b[43m(\u001b[49m\u001b[43m)\u001b[49m\n",
      "Cell \u001b[1;32mIn [43], line 22\u001b[0m, in \u001b[0;36mcalculator\u001b[1;34m()\u001b[0m\n\u001b[0;32m     21\u001b[0m \u001b[38;5;28;01mdef\u001b[39;00m \u001b[38;5;21mcalculator\u001b[39m():\n\u001b[1;32m---> 22\u001b[0m     num1 \u001b[38;5;241m=\u001b[39m \u001b[38;5;28;43mfloat\u001b[39;49m\u001b[43m(\u001b[49m\u001b[38;5;28;43minput\u001b[39;49m\u001b[43m(\u001b[49m\u001b[38;5;124;43m\"\u001b[39;49m\u001b[38;5;124;43mFirst number: \u001b[39;49m\u001b[38;5;124;43m\"\u001b[39;49m\u001b[43m)\u001b[49m\u001b[43m)\u001b[49m\n\u001b[0;32m     24\u001b[0m     \u001b[38;5;28;01mfor\u001b[39;00m symbol \u001b[38;5;129;01min\u001b[39;00m opeartions:\n\u001b[0;32m     25\u001b[0m         \u001b[38;5;28mprint\u001b[39m(symbol)\n",
      "\u001b[1;31mValueError\u001b[0m: could not convert string to float: ''"
     ]
    }
   ],
   "source": [
    "# Calculator\n",
    "\n",
    "def add(n1, n2):\n",
    "    return n1 + n2\n",
    "\n",
    "\n",
    "def substrct(n1, n2):\n",
    "    return n1-n2\n",
    "\n",
    "\n",
    "def multiply(n1, n2):\n",
    "    return n1*n2\n",
    "\n",
    "\n",
    "def divide(n1, n2):\n",
    "    return n1/n2\n",
    "\n",
    "\n",
    "opeartions = {\n",
    "    \"+\": add,\n",
    "    \"-\": substrct,\n",
    "    \"*\": multiply,\n",
    "    \"/\": divide\n",
    "}\n",
    "\n",
    "\n",
    "def calculator():\n",
    "    num1 = float(input(\"First number: \"))\n",
    "\n",
    "    for symbol in opeartions:\n",
    "        print(symbol)\n",
    "\n",
    "    should_continue = True\n",
    "\n",
    "    while should_continue:\n",
    "        opeartion_symbol = input(\"Pick a opration: \")\n",
    "        num2 = float(input(\"What's the next number: \"))\n",
    "        calculation_function = opeartions[opeartion_symbol]\n",
    "        answer = calculation_function(num1, num2)\n",
    "\n",
    "        print(f\"{num1} {opeartion_symbol} {num2} = {answer}\")\n",
    "\n",
    "        if input(f\"Type 'y' to continue with {answer}, or type 'n' to  new calculation: \") == \"y\":\n",
    "            num1 = answer\n",
    "        else:\n",
    "            should_continue = False\n",
    "            calculator()\n",
    "\n",
    "\n",
    "calculator()\n"
   ]
  },
  {
   "cell_type": "code",
   "execution_count": 28,
   "metadata": {},
   "outputs": [
    {
     "name": "stdout",
     "output_type": "stream",
     "text": [
      "cc: None, uc: None\n",
      "cc: None, uc: None\n",
      "Your cards: [2, 10], current score: 12\n",
      "Computer's first cards: 10\n",
      "   Your final hand: [2, 10], final score: 12\n",
      "   Computer's final hand: [10, 11], final score: 0\n",
      "Loss, opponent has blackjack\n"
     ]
    }
   ],
   "source": [
    "import random\n",
    "from IPython.display import clear_output\n",
    "\n",
    "\n",
    "def deal_card():\n",
    "    \"\"\"Returns a random card from the deck.\"\"\"\n",
    "    cards = [11, 2, 3, 4, 5, 6, 7, 8, 9, 10, 10, 10, 10]\n",
    "    card = random.choice(cards)\n",
    "    return int(card)\n",
    "\n",
    "\n",
    "def calculate_score(cards):\n",
    "    \"\"\" Take a list of cards and return the score to calculate the card \"\"\"\n",
    "\n",
    "    if sum(cards) == 21 and len(cards) == 2:\n",
    "        return 0\n",
    "\n",
    "    if 11 in cards and sum(cards) > 21:\n",
    "        cards.remove(11)\n",
    "        cards.append(1)\n",
    "\n",
    "    return sum(cards)\n",
    "\n",
    "\n",
    "def compare(user_score, computer_score):\n",
    "\n",
    "    if user_score > 21 and computer_score > 21:\n",
    "        return \"You went over, You lose\"\n",
    "\n",
    "    if user_score == computer_score:\n",
    "        return \"Draw\"\n",
    "    elif computer_score == 0:\n",
    "        return \"Loss, opponent has blackjack\"\n",
    "    elif user_score == 0:\n",
    "        return \"Win with a blackjeck\"\n",
    "    elif user_score > 21:\n",
    "        return \"You went over, You lose\"\n",
    "    elif computer_score > 21:\n",
    "        return \"Opponent went over, You win\"\n",
    "    elif user_score > computer_score:\n",
    "        return \"You Win\"\n",
    "    else:\n",
    "        return \"You lose\"\n",
    "\n",
    "\n",
    "def play_game():\n",
    "    user_cards = []\n",
    "    computer_cards = []\n",
    "    is_game_over = False\n",
    "\n",
    "    for _ in range(2):\n",
    "\n",
    "        uc = user_cards.append(deal_card())\n",
    "        cc = computer_cards.append(deal_card())\n",
    "        print(f\"cc: {cc}, uc: {uc}\")\n",
    "\n",
    "    while not is_game_over:\n",
    "        user_score = calculate_score(user_cards)\n",
    "        computer_score = calculate_score(computer_cards)\n",
    "        print(f\"Your cards: {user_cards}, current score: {user_score}\")\n",
    "        print(f\"Computer's first cards: {computer_cards[0]}\")\n",
    "\n",
    "        if user_score == 0 or computer_score == 0 or user_score > 21:\n",
    "            is_game_over = True\n",
    "        else:\n",
    "            user_should_deal = input(\n",
    "                \"Type 'y' to get another card, type 'n' to pass: \")\n",
    "            if user_should_deal == 'y':\n",
    "                user_cards.append(deal_card())\n",
    "            else:\n",
    "                is_game_over = True\n",
    "\n",
    "    while computer_score != 0 and computer_score < 17:\n",
    "        computer_cards.append(deal_card())\n",
    "        computer_score = calculate_score(computer_cards)\n",
    "\n",
    "    print(f\"   Your final hand: {user_cards}, final score: {user_score}\")\n",
    "    print(\n",
    "        f\"   Computer's final hand: {computer_cards}, final score: {computer_score}\")\n",
    "    print(compare(user_score, computer_score))\n",
    "\n",
    "\n",
    "while input(\"Do you want to play a game of blackjack, Type 'y' or 'n' to exit: \") == 'y':\n",
    "    clear_output()\n",
    "    play_game()\n"
   ]
  },
  {
   "cell_type": "code",
   "execution_count": 30,
   "metadata": {},
   "outputs": [
    {
     "name": "stdout",
     "output_type": "stream",
     "text": [
      "Enemies inside function: 2\n",
      "Enemies outside function: 1\n",
      "2\n"
     ]
    }
   ],
   "source": [
    "enemies = 1\n",
    "\n",
    "\n",
    "def increase_enemies():\n",
    "    enemies = 2\n",
    "    print(f\"Enemies inside function: {enemies}\")\n",
    "\n",
    "\n",
    "increase_enemies()\n",
    "print(f\"Enemies outside function: {enemies}\")\n"
   ]
  },
  {
   "cell_type": "code",
   "execution_count": null,
   "metadata": {},
   "outputs": [],
   "source": [
    "# Local Scope\n",
    "\n",
    "def drink_potion():\n",
    "    potion_strength = 2\n",
    "    print(potion_strength)\n",
    "\n",
    "\n",
    "drink_potion()\n"
   ]
  },
  {
   "cell_type": "code",
   "execution_count": 35,
   "metadata": {},
   "outputs": [
    {
     "name": "stdout",
     "output_type": "stream",
     "text": [
      "10\n"
     ]
    }
   ],
   "source": [
    "# Global Scope\n",
    "\n",
    "player_health = 10\n",
    "\n",
    "\n",
    "def game():\n",
    "    def drink_potion():\n",
    "        potion_strength = 2\n",
    "        print(player_health)\n",
    "\n",
    "    drink_potion()\n",
    "\n",
    "\n",
    "print(player_health)\n"
   ]
  },
  {
   "cell_type": "code",
   "execution_count": 36,
   "metadata": {},
   "outputs": [],
   "source": [
    "# There is no block scope\n",
    "\n",
    "if 3 > 2:\n",
    "    a_var = 10\n"
   ]
  },
  {
   "cell_type": "code",
   "execution_count": 39,
   "metadata": {},
   "outputs": [
    {
     "name": "stdout",
     "output_type": "stream",
     "text": [
      "Saklayen\n"
     ]
    }
   ],
   "source": [
    "game_level = 3\n",
    "enemies = ['Saklayen', 'Tanim', 'Ahmed']\n",
    "if game_level < 5:\n",
    "    new_enemy = enemies[0]\n",
    "\n",
    "print(new_enemy)\n"
   ]
  },
  {
   "cell_type": "code",
   "execution_count": 42,
   "metadata": {},
   "outputs": [
    {
     "name": "stdout",
     "output_type": "stream",
     "text": [
      "Enemies inside function: 3\n",
      "Enemies outside fuction: 3\n"
     ]
    }
   ],
   "source": [
    "# Modifiying global scope\n",
    "\n",
    "enemies = 1\n",
    "\n",
    "\n",
    "def increase_enemies():\n",
    "    global enemies\n",
    "    enemies += 2\n",
    "    print(f\"Enemies inside function: {enemies}\")\n",
    "\n",
    "\n",
    "increase_enemies()\n",
    "print(f\"Enemies outside fuction: {enemies}\")\n"
   ]
  },
  {
   "cell_type": "code",
   "execution_count": 46,
   "metadata": {},
   "outputs": [
    {
     "name": "stdout",
     "output_type": "stream",
     "text": [
      "Enemies inside function: 1\n",
      "Enemies outside fuction: 2\n"
     ]
    }
   ],
   "source": [
    "# Modifiying global scope\n",
    "\n",
    "enemies = 1\n",
    "\n",
    "\n",
    "def increase_enemies():\n",
    "    print(f\"Enemies inside function: {enemies}\")\n",
    "    return enemies + 1\n",
    "\n",
    "\n",
    "enemies = increase_enemies()\n",
    "print(f\"Enemies outside fuction: {enemies}\")\n"
   ]
  },
  {
   "cell_type": "code",
   "execution_count": null,
   "metadata": {},
   "outputs": [],
   "source": [
    "# Global constants\n",
    "\n",
    "PI = 3.14159\n",
    "URL = \"https://www.google.com\"\n"
   ]
  },
  {
   "cell_type": "code",
   "execution_count": null,
   "metadata": {},
   "outputs": [],
   "source": [
    "from random import randint\n",
    "\n",
    "EASY_LEVEL_TURNS = 10\n",
    "HARD_LEVEL_TURNS = 5\n",
    "\n",
    "# Make fucntion for set difficulty\n",
    "\n",
    "\n",
    "def check_answer(guess, answer, turns):\n",
    "    \"\"\"\n",
    "    Checks answer against gusess. Returns the number of turns remaining.\n",
    "    \"\"\"\n",
    "    if guess > answer:\n",
    "        print(\"Too high\")\n",
    "        return turns - 1\n",
    "    elif guess < answer:\n",
    "        print(\"Too low\")\n",
    "        return turns - 1\n",
    "\n",
    "    else:\n",
    "        print(f\"You got it! The answer was {answer}\")\n",
    "\n",
    "\n",
    "def set_difficulty():\n",
    "    level = input(\"Choose a difficulty: 'easy' or 'hard': \")\n",
    "    if level == 'easy':\n",
    "        return EASY_LEVEL_TURNS\n",
    "    else:\n",
    "        return HARD_LEVEL_TURNS\n",
    "\n",
    "# choosing a random number\n",
    "\n",
    "\n",
    "def game():\n",
    "    print(\"Welcome to the number guessing game\")\n",
    "    print(\"I'am thinking of a number between 1 and 100.\")\n",
    "\n",
    "    answer = randint(1, 100)\n",
    "    print(f\"The correct answer is {answer}\")\n",
    "\n",
    "    turns = set_difficulty()\n",
    "\n",
    "    # Repeat the guessing functionality if the get it wrong\n",
    "    guess = 0\n",
    "    while guess != answer:\n",
    "        print(f\"You have {turns} attempts remaining to guess the number\")\n",
    "\n",
    "        # Let the user guess a number\n",
    "        guess = int(input(\"Make a guess: \"))\n",
    "\n",
    "        # function to chcek user guess number agianst actual answer\n",
    "        turns = check_answer(guess, answer, turns)\n",
    "\n",
    "        if turns == 0:\n",
    "            print(\"You have run out of guesses, you lose.\")\n",
    "            return\n",
    "        elif guess != answer:\n",
    "            print('Guess Again')\n",
    "\n",
    "\n",
    "# Track the number of turns and reduce by 1 if they get it wrong\n",
    "\n",
    "game()\n"
   ]
  },
  {
   "cell_type": "code",
   "execution_count": null,
   "metadata": {},
   "outputs": [],
   "source": [
    "############ DEBUGGING#####################\n",
    "\n",
    "# # Describe Problem\n",
    "# def my_function():\n",
    "#   for i in range(1, 20):\n",
    "#     if i == 20:\n",
    "#       print(\"You got it\")\n",
    "# my_function()\n",
    "\n",
    "# # Reproduce the Bug\n",
    "# from random import randint\n",
    "# dice_imgs = [\"❶\", \"❷\", \"❸\", \"❹\", \"❺\", \"❻\"]\n",
    "# dice_num = randint(1, 6)\n",
    "# print(dice_imgs[dice_num])\n",
    "\n",
    "# # Play Computer\n",
    "# year = int(input(\"What's your year of birth?\"))\n",
    "# if year > 1980 and year < 1994:\n",
    "#   print(\"You are a millenial.\")\n",
    "# elif year > 1994:\n",
    "#   print(\"You are a Gen Z.\")\n",
    "\n",
    "# # Fix the Errors\n",
    "# age = input(\"How old are you?\")\n",
    "# if age > 18:\n",
    "# print(\"You can drive at age {age}.\")\n",
    "\n",
    "# #Print is Your Friend\n",
    "# pages = 0\n",
    "# word_per_page = 0\n",
    "# pages = int(input(\"Number of pages: \"))\n",
    "# word_per_page == int(input(\"Number of words per page: \"))\n",
    "# total_words = pages * word_per_page\n",
    "# print(total_words)\n",
    "\n",
    "# #Use a Debugger\n",
    "# def mutate(a_list):\n",
    "#   b_list = []\n",
    "#   for item in a_list:\n",
    "#     new_item = item * 2\n",
    "#   b_list.append(new_item)\n",
    "#   print(b_list)\n",
    "\n",
    "# mutate([1,2,3,5,8,13])\n"
   ]
  },
  {
   "cell_type": "code",
   "execution_count": 65,
   "metadata": {},
   "outputs": [
    {
     "name": "stdout",
     "output_type": "stream",
     "text": [
      "You got it\n"
     ]
    }
   ],
   "source": [
    "# Describe Problem\n",
    "def my_function():\n",
    "    for i in range(1, 21):\n",
    "        if i == 20:\n",
    "            print(\"You got it\")\n",
    "\n",
    "\n",
    "my_function()\n"
   ]
  },
  {
   "cell_type": "code",
   "execution_count": 165,
   "metadata": {},
   "outputs": [
    {
     "name": "stdout",
     "output_type": "stream",
     "text": [
      "❸\n"
     ]
    }
   ],
   "source": [
    "# Reproduce the Bug\n",
    "from random import randint\n",
    "dice_imgs = [\"❶\", \"❷\", \"❸\", \"❹\", \"❺\", \"❻\"]\n",
    "dice_num = randint(0, 5)\n",
    "print(dice_imgs[dice_num])\n"
   ]
  },
  {
   "cell_type": "code",
   "execution_count": 168,
   "metadata": {},
   "outputs": [
    {
     "name": "stdout",
     "output_type": "stream",
     "text": [
      "You are a millenial.\n"
     ]
    }
   ],
   "source": [
    "# Play Computer\n",
    "year = int(input(\"What's your year of birth?\"))\n",
    "if year >= 1980 and year <= 1994:\n",
    "    print(\"You are a millenial.\")\n",
    "elif year > 1994:\n",
    "    print(\"You are a Gen Z.\")\n"
   ]
  },
  {
   "cell_type": "code",
   "execution_count": 172,
   "metadata": {},
   "outputs": [
    {
     "name": "stdout",
     "output_type": "stream",
     "text": [
      "You can drive at age 56.\n"
     ]
    }
   ],
   "source": [
    "# Fix the Errors\n",
    "age = int(input(\"How old are you?\"))\n",
    "if age > 18:\n",
    "    print(f\"You can drive at age {age}.\")\n"
   ]
  },
  {
   "cell_type": "code",
   "execution_count": 177,
   "metadata": {},
   "outputs": [
    {
     "name": "stdout",
     "output_type": "stream",
     "text": [
      "5226\n"
     ]
    }
   ],
   "source": [
    "# Print is Your Friend\n",
    "pages = 0\n",
    "word_per_page = 0\n",
    "pages = int(input(\"Number of pages: \"))\n",
    "word_per_page = int(input(\"Number of words per page: \"))\n",
    "total_words = pages * word_per_page\n",
    "# print(f\"Pages: {pages}\")\n",
    "# print(f\"Word: {word_per_page}\")\n",
    "print(total_words)\n"
   ]
  },
  {
   "cell_type": "code",
   "execution_count": 179,
   "metadata": {},
   "outputs": [
    {
     "name": "stdout",
     "output_type": "stream",
     "text": [
      "[2, 4, 6, 10, 16, 26]\n"
     ]
    }
   ],
   "source": [
    "# Use a Debugger\n",
    "def mutate(a_list):\n",
    "    b_list = []\n",
    "    for item in a_list:\n",
    "        new_item = item * 2\n",
    "        b_list.append(new_item)\n",
    "    print(b_list)\n",
    "\n",
    "\n",
    "mutate([1, 2, 3, 5, 8, 13])\n"
   ]
  },
  {
   "cell_type": "code",
   "execution_count": 198,
   "metadata": {},
   "outputs": [
    {
     "name": "stdout",
     "output_type": "stream",
     "text": [
      "Leap Year\n"
     ]
    }
   ],
   "source": [
    "year = int(input())\n",
    "\n",
    "if year % 4 == 0:\n",
    "    if year % 100 == 0:\n",
    "        if year % 400 == 0:\n",
    "            print(\"Leap Year\")\n",
    "        else:\n",
    "            print(\"Not Leap Year\")\n",
    "    else:\n",
    "        print(\"Leap Year\")\n",
    "else:\n",
    "    print(\"Not Leap Year\")\n"
   ]
  },
  {
   "cell_type": "code",
   "execution_count": 206,
   "metadata": {},
   "outputs": [
    {
     "name": "stdout",
     "output_type": "stream",
     "text": [
      "20\n"
     ]
    }
   ],
   "source": [
    "print(2020 % 400)\n"
   ]
  },
  {
   "cell_type": "code",
   "execution_count": null,
   "metadata": {},
   "outputs": [],
   "source": [
    "target = int(input())\n",
    "\n",
    "for number in range(1, target+1):\n",
    "    if number % 3 == 0 or number % 5 == 0:\n",
    "        print(\"FizzBuzz\")\n",
    "    elif number % 3 == 0:\n",
    "        print(\"Fizz\")\n",
    "    elif number % 5 == 0:\n",
    "        print(\"Buzz\")\n",
    "    else:\n",
    "        print(number)\n"
   ]
  },
  {
   "cell_type": "code",
   "execution_count": 256,
   "metadata": {},
   "outputs": [
    {
     "name": "stdout",
     "output_type": "stream",
     "text": [
      "\n",
      "    __  ___       __             \n",
      "   / / / (_)___ _/ /_  ___  _____\n",
      "  / /_/ / / __ `/ __ \\/ _ \\/ ___/\n",
      " / __  / / /_/ / / / /  __/ /    \n",
      "/_/ ///_/\\__, /_/ /_/\\___/_/     \n",
      "   / /  /____/_      _____  _____\n",
      "  / /   / __ \\ | /| / / _ \\/ ___/\n",
      " / /___/ /_/ / |/ |/ /  __/ /    \n",
      "/_____/\\____/|__/|__/\\___/_/     \n",
      "\n",
      "Sorry, you are wrong. Final score: 7\n"
     ]
    }
   ],
   "source": [
    "from art_vs import logo, vs\n",
    "from game_data import data\n",
    "import random\n",
    "\n",
    "from IPython.display import clear_output\n",
    "\n",
    "\n",
    "def format_data(account):\n",
    "    # format the account data into printable format\n",
    "    account_name = account['name']\n",
    "    account_descr = account['description']\n",
    "    account_country = account['country']\n",
    "    account_follower_count = account['follower_count']\n",
    "\n",
    "    return f\"{account_name}, a {account_descr}, from {account_country} - {account_follower_count}\"\n",
    "\n",
    "\n",
    "def check_answer(guess, a_followers, b_followers):\n",
    "    \"\"\" Take the user guess and follower counts and returns if they got it right.\"\"\"\n",
    "    if a_followers > b_followers:\n",
    "        return guess == 'a'\n",
    "    else:\n",
    "        return guess == 'b'\n",
    "\n",
    "\n",
    "print(logo)\n",
    "\n",
    "score = 0\n",
    "\n",
    "game_should_continue = True\n",
    "\n",
    "# generate a ramdom account from game data\n",
    "account_b = random.choice(data)\n",
    "\n",
    "# make the game repeatable\n",
    "while game_should_continue:\n",
    "\n",
    "    # making the account at position B become the next acocunt as position A\n",
    "\n",
    "    account_a = account_b\n",
    "    account_b = random.choice(data)\n",
    "\n",
    "    while account_a == account_b:\n",
    "        account_b = random.choice(data)\n",
    "\n",
    "    # while account_a['follower_count'] >= account_b['follower_count']:\n",
    "    #     # If A has more or equal followers than B, select a new account for B\n",
    "    #     account_b = random.choice(data)\n",
    "\n",
    "    print(f\"Compare A: {format_data(account_a)}\")\n",
    "    print(vs)\n",
    "    print(f\"Against B: {format_data(account_b)}\")\n",
    "\n",
    "    # ask user for a guess\n",
    "    guess = input(\"Who has more followers? Type 'A' or 'B': \").lower()\n",
    "\n",
    "    # check if user is correct\n",
    "    # get follower count of each account\n",
    "\n",
    "    a_follower_count = account_a['follower_count']\n",
    "    b_follower_count = account_b['follower_count']\n",
    "\n",
    "    # use if statement to check if user is correct\n",
    "\n",
    "    is_correct = check_answer(guess, a_follower_count, b_follower_count)\n",
    "\n",
    "    # give user feedback on their guess\n",
    "\n",
    "    # clear the screen\n",
    "    clear_output()\n",
    "\n",
    "    # display logo\n",
    "    print(logo)\n",
    "\n",
    "    # score keeping\n",
    "\n",
    "    if is_correct:\n",
    "        score += 1\n",
    "        print(f\"You are right. Current score: {score}\")\n",
    "    else:\n",
    "        game_should_continue = False\n",
    "        print(f\"Sorry, you are wrong. Final score: {score}\")\n"
   ]
  },
  {
   "cell_type": "code",
   "execution_count": null,
   "metadata": {},
   "outputs": [],
   "source": [
    "from turtle import Turtle, Screen\n",
    "\n",
    "timmy = Turtle()\n",
    "screen = Screen()\n",
    "screen.exitonclick()\n"
   ]
  },
  {
   "cell_type": "code",
   "execution_count": 1,
   "metadata": {},
   "outputs": [],
   "source": [
    "from turtle import Screen, Turtle\n",
    "\n",
    "timmy = Turtle()\n",
    "timmy.shape(\"turtle\")\n",
    "timmy.color('red')\n",
    "timmy.forward(300)\n",
    "\n",
    "screen = Screen()\n",
    "screen.exitonclick()\n"
   ]
  },
  {
   "cell_type": "code",
   "execution_count": 8,
   "metadata": {},
   "outputs": [
    {
     "name": "stdout",
     "output_type": "stream",
     "text": [
      "+----------+-----+\n",
      "| Name     | Age |\n",
      "+----------+-----+\n",
      "| Saklayen | 20  |\n",
      "| Ahmed    | 29  |\n",
      "| Tanim    | 45  |\n",
      "+----------+-----+\n"
     ]
    }
   ],
   "source": [
    "from prettytable import PrettyTable\n",
    "\n",
    "table = PrettyTable()\n",
    "\n",
    "table.add_column('Name', ['Saklayen', 'Ahmed', 'Tanim'])\n",
    "table.add_column('Age', ['20', '29', '45'])\n",
    "table.align = 'l'\n",
    "print(table)\n"
   ]
  },
  {
   "cell_type": "code",
   "execution_count": null,
   "metadata": {},
   "outputs": [],
   "source": [
    "class User:\n",
    "    def __init__(self,):\n",
    "        print(\"Hello\")\n",
    "\n",
    "\n",
    "user_1 = User()\n",
    "user_1.id = \"001\"\n",
    "user_1.name = \"Saklayen\"\n",
    "\n",
    "print(user_1.name)\n"
   ]
  },
  {
   "cell_type": "code",
   "execution_count": 17,
   "metadata": {},
   "outputs": [
    {
     "name": "stdout",
     "output_type": "stream",
     "text": [
      "0\n",
      "2\n",
      "1\n",
      "0\n"
     ]
    }
   ],
   "source": [
    "class User:\n",
    "    def __init__(self, user_id, name):\n",
    "        self.id = user_id\n",
    "        self.username = name\n",
    "        self.followers = 0\n",
    "        self.following = 0\n",
    "\n",
    "    def follow(self, user):\n",
    "        user.followers += 1\n",
    "        self.following += 2\n",
    "\n",
    "\n",
    "user_1 = User(\"01\", \"Saklayen\")\n",
    "user_2 = User(\"02\", \"Tanim\")\n",
    "\n",
    "user_1.follow(user_2)\n",
    "print(user_1.followers)\n",
    "print(user_1.following)\n",
    "print(user_2.followers)\n",
    "print(user_2.following)\n"
   ]
  },
  {
   "cell_type": "code",
   "execution_count": null,
   "metadata": {},
   "outputs": [],
   "source": [
    "from turtle import Screen, Turtle\n",
    "\n",
    "timmy_the = Turtle()\n",
    "timmy_the.shape(\"turtle\")\n",
    "timmy_the.color(\"red\")\n",
    "\n",
    "for _ in range(4):\n",
    "    timmy_the.forward(200)\n",
    "    timmy_the.right(90)\n",
    "\n",
    "\n",
    "screen = Screen()\n",
    "screen.exitonclick()\n"
   ]
  },
  {
   "cell_type": "code",
   "execution_count": null,
   "metadata": {},
   "outputs": [],
   "source": [
    "from turtle import Turtle\n",
    "\n",
    "tim = Turtle()\n"
   ]
  },
  {
   "cell_type": "code",
   "execution_count": null,
   "metadata": {},
   "outputs": [],
   "source": [
    "from turtle import *\n",
    "\n",
    "tim = Turtle()\n"
   ]
  },
  {
   "cell_type": "code",
   "execution_count": 18,
   "metadata": {},
   "outputs": [],
   "source": [
    "import turtle as t\n",
    "\n",
    "tim = t.Turtle()\n",
    "\n",
    "for _ in range(14):\n",
    "    tim.forward(5)\n",
    "    tim.penup()\n",
    "    tim.forward(5)\n",
    "    tim.pendown()\n",
    "\n",
    "screen = Screen()\n",
    "screen.exitonclick()\n"
   ]
  },
  {
   "cell_type": "code",
   "execution_count": 7,
   "metadata": {},
   "outputs": [],
   "source": [
    "import turtle as t\n",
    "import random\n",
    "\n",
    "tim = t.Turtle()\n",
    "scr = t.Screen()\n",
    "\n",
    "\n",
    "turtle_colors = [\n",
    "    \"red\",\n",
    "    \"orange\",\n",
    "    \"yellow\",\n",
    "    \"green\",\n",
    "    \"blue\",\n",
    "    \"purple\",\n",
    "    \"pink\",\n",
    "    \"brown\",\n",
    "    \"black\",\n",
    "    \"white\",\n",
    "    \"gray\",\n",
    "    \"cyan\",\n",
    "    \"magenta\",\n",
    "    \"violet\",\n",
    "    \"indigo\",\n",
    "    \"turquoise\",\n",
    "    \"gold\",\n",
    "    \"silver\",\n",
    "    \"maroon\",\n",
    "    \"olive\"\n",
    "]\n",
    "\n",
    "\n",
    "def draw_shape(num_side):\n",
    "    angle = 360/num_side\n",
    "    for _ in range(num_side):\n",
    "        tim.forward(100)\n",
    "        tim.right(angle)\n",
    "\n",
    "\n",
    "for shape_side_n in range(3, 11):\n",
    "    tim.color(random.choice(turtle_colors))\n",
    "    draw_shape(shape_side_n)\n",
    "\n",
    "\n",
    "scr.exitonclick()\n"
   ]
  },
  {
   "cell_type": "code",
   "execution_count": 5,
   "metadata": {},
   "outputs": [
    {
     "ename": "TclError",
     "evalue": "invalid command name \".!canvas\"",
     "output_type": "error",
     "traceback": [
      "\u001b[1;31m---------------------------------------------------------------------------\u001b[0m",
      "\u001b[1;31mTclError\u001b[0m                                  Traceback (most recent call last)",
      "Cell \u001b[1;32mIn [5], line 45\u001b[0m\n\u001b[0;32m     42\u001b[0m tim\u001b[38;5;241m.\u001b[39mspeed(\u001b[38;5;124m\"\u001b[39m\u001b[38;5;124mfastest\u001b[39m\u001b[38;5;124m\"\u001b[39m)\n\u001b[0;32m     44\u001b[0m \u001b[38;5;28;01mfor\u001b[39;00m _ \u001b[38;5;129;01min\u001b[39;00m \u001b[38;5;28mrange\u001b[39m(\u001b[38;5;241m1000\u001b[39m):\n\u001b[1;32m---> 45\u001b[0m     \u001b[43mtim\u001b[49m\u001b[38;5;241;43m.\u001b[39;49m\u001b[43mcolor\u001b[49m\u001b[43m(\u001b[49m\u001b[43mrandom_color\u001b[49m\u001b[43m(\u001b[49m\u001b[43m)\u001b[49m\u001b[43m)\u001b[49m\n\u001b[0;32m     46\u001b[0m     tim\u001b[38;5;241m.\u001b[39mforward(\u001b[38;5;241m30\u001b[39m)\n\u001b[0;32m     47\u001b[0m     tim\u001b[38;5;241m.\u001b[39msetheading(random\u001b[38;5;241m.\u001b[39mchoice(directions))\n",
      "File \u001b[1;32mC:\\Program Files\\WindowsApps\\PythonSoftwareFoundation.Python.3.9_3.9.3568.0_x64__qbz5n2kfra8p0\\lib\\turtle.py:2219\u001b[0m, in \u001b[0;36mTPen.color\u001b[1;34m(self, *args)\u001b[0m\n\u001b[0;32m   2217\u001b[0m     pcolor \u001b[39m=\u001b[39m \u001b[39mself\u001b[39m\u001b[39m.\u001b[39m_colorstr(pcolor)\n\u001b[0;32m   2218\u001b[0m     fcolor \u001b[39m=\u001b[39m \u001b[39mself\u001b[39m\u001b[39m.\u001b[39m_colorstr(fcolor)\n\u001b[1;32m-> 2219\u001b[0m     \u001b[39mself\u001b[39;49m\u001b[39m.\u001b[39;49mpen(pencolor\u001b[39m=\u001b[39;49mpcolor, fillcolor\u001b[39m=\u001b[39;49mfcolor)\n\u001b[0;32m   2220\u001b[0m \u001b[39melse\u001b[39;00m:\n\u001b[0;32m   2221\u001b[0m     \u001b[39mreturn\u001b[39;00m \u001b[39mself\u001b[39m\u001b[39m.\u001b[39m_color(\u001b[39mself\u001b[39m\u001b[39m.\u001b[39m_pencolor), \u001b[39mself\u001b[39m\u001b[39m.\u001b[39m_color(\u001b[39mself\u001b[39m\u001b[39m.\u001b[39m_fillcolor)\n",
      "File \u001b[1;32mC:\\Program Files\\WindowsApps\\PythonSoftwareFoundation.Python.3.9_3.9.3568.0_x64__qbz5n2kfra8p0\\lib\\turtle.py:2426\u001b[0m, in \u001b[0;36mTPen.pen\u001b[1;34m(self, pen, **pendict)\u001b[0m\n\u001b[0;32m   2424\u001b[0m         newLine \u001b[39m=\u001b[39m \u001b[39mTrue\u001b[39;00m\n\u001b[0;32m   2425\u001b[0m \u001b[39mif\u001b[39;00m newLine:\n\u001b[1;32m-> 2426\u001b[0m     \u001b[39mself\u001b[39;49m\u001b[39m.\u001b[39;49m_newLine()\n\u001b[0;32m   2427\u001b[0m \u001b[39mif\u001b[39;00m \u001b[39m\"\u001b[39m\u001b[39mpendown\u001b[39m\u001b[39m\"\u001b[39m \u001b[39min\u001b[39;00m p:\n\u001b[0;32m   2428\u001b[0m     \u001b[39mself\u001b[39m\u001b[39m.\u001b[39m_drawing \u001b[39m=\u001b[39m p[\u001b[39m\"\u001b[39m\u001b[39mpendown\u001b[39m\u001b[39m\"\u001b[39m]\n",
      "File \u001b[1;32mC:\\Program Files\\WindowsApps\\PythonSoftwareFoundation.Python.3.9_3.9.3568.0_x64__qbz5n2kfra8p0\\lib\\turtle.py:3288\u001b[0m, in \u001b[0;36mRawTurtle._newLine\u001b[1;34m(self, usePos)\u001b[0m\n\u001b[0;32m   3283\u001b[0m \u001b[39m\"\"\"Closes current line item and starts a new one.\u001b[39;00m\n\u001b[0;32m   3284\u001b[0m \u001b[39m   Remark: if current line became too long, animation\u001b[39;00m\n\u001b[0;32m   3285\u001b[0m \u001b[39m   performance (via _drawline) slowed down considerably.\u001b[39;00m\n\u001b[0;32m   3286\u001b[0m \u001b[39m\"\"\"\u001b[39;00m\n\u001b[0;32m   3287\u001b[0m \u001b[39mif\u001b[39;00m \u001b[39mlen\u001b[39m(\u001b[39mself\u001b[39m\u001b[39m.\u001b[39mcurrentLine) \u001b[39m>\u001b[39m \u001b[39m1\u001b[39m:\n\u001b[1;32m-> 3288\u001b[0m     \u001b[39mself\u001b[39;49m\u001b[39m.\u001b[39;49mscreen\u001b[39m.\u001b[39;49m_drawline(\u001b[39mself\u001b[39;49m\u001b[39m.\u001b[39;49mcurrentLineItem, \u001b[39mself\u001b[39;49m\u001b[39m.\u001b[39;49mcurrentLine,\n\u001b[0;32m   3289\u001b[0m                               \u001b[39mself\u001b[39;49m\u001b[39m.\u001b[39;49m_pencolor, \u001b[39mself\u001b[39;49m\u001b[39m.\u001b[39;49m_pensize)\n\u001b[0;32m   3290\u001b[0m     \u001b[39mself\u001b[39m\u001b[39m.\u001b[39mcurrentLineItem \u001b[39m=\u001b[39m \u001b[39mself\u001b[39m\u001b[39m.\u001b[39mscreen\u001b[39m.\u001b[39m_createline()\n\u001b[0;32m   3291\u001b[0m     \u001b[39mself\u001b[39m\u001b[39m.\u001b[39mitems\u001b[39m.\u001b[39mappend(\u001b[39mself\u001b[39m\u001b[39m.\u001b[39mcurrentLineItem)\n",
      "File \u001b[1;32mC:\\Program Files\\WindowsApps\\PythonSoftwareFoundation.Python.3.9_3.9.3568.0_x64__qbz5n2kfra8p0\\lib\\turtle.py:544\u001b[0m, in \u001b[0;36mTurtleScreenBase._drawline\u001b[1;34m(self, lineitem, coordlist, fill, width, top)\u001b[0m\n\u001b[0;32m    542\u001b[0m         cl\u001b[39m.\u001b[39mappend(x \u001b[39m*\u001b[39m \u001b[39mself\u001b[39m\u001b[39m.\u001b[39mxscale)\n\u001b[0;32m    543\u001b[0m         cl\u001b[39m.\u001b[39mappend(\u001b[39m-\u001b[39my \u001b[39m*\u001b[39m \u001b[39mself\u001b[39m\u001b[39m.\u001b[39myscale)\n\u001b[1;32m--> 544\u001b[0m     \u001b[39mself\u001b[39;49m\u001b[39m.\u001b[39;49mcv\u001b[39m.\u001b[39;49mcoords(lineitem, \u001b[39m*\u001b[39;49mcl)\n\u001b[0;32m    545\u001b[0m \u001b[39mif\u001b[39;00m fill \u001b[39mis\u001b[39;00m \u001b[39mnot\u001b[39;00m \u001b[39mNone\u001b[39;00m:\n\u001b[0;32m    546\u001b[0m     \u001b[39mself\u001b[39m\u001b[39m.\u001b[39mcv\u001b[39m.\u001b[39mitemconfigure(lineitem, fill\u001b[39m=\u001b[39mfill)\n",
      "File \u001b[1;32m<string>:1\u001b[0m, in \u001b[0;36mcoords\u001b[1;34m(self, *args, **kw)\u001b[0m\n",
      "File \u001b[1;32mC:\\Program Files\\WindowsApps\\PythonSoftwareFoundation.Python.3.9_3.9.3568.0_x64__qbz5n2kfra8p0\\lib\\tkinter\\__init__.py:2766\u001b[0m, in \u001b[0;36mCanvas.coords\u001b[1;34m(self, *args)\u001b[0m\n\u001b[0;32m   2762\u001b[0m \u001b[39m\"\"\"Return a list of coordinates for the item given in ARGS.\"\"\"\u001b[39;00m\n\u001b[0;32m   2763\u001b[0m \u001b[39m# XXX Should use _flatten on args\u001b[39;00m\n\u001b[0;32m   2764\u001b[0m \u001b[39mreturn\u001b[39;00m [\u001b[39mself\u001b[39m\u001b[39m.\u001b[39mtk\u001b[39m.\u001b[39mgetdouble(x) \u001b[39mfor\u001b[39;00m x \u001b[39min\u001b[39;00m\n\u001b[0;32m   2765\u001b[0m                    \u001b[39mself\u001b[39m\u001b[39m.\u001b[39mtk\u001b[39m.\u001b[39msplitlist(\n\u001b[1;32m-> 2766\u001b[0m            \u001b[39mself\u001b[39;49m\u001b[39m.\u001b[39;49mtk\u001b[39m.\u001b[39;49mcall((\u001b[39mself\u001b[39;49m\u001b[39m.\u001b[39;49m_w, \u001b[39m'\u001b[39;49m\u001b[39mcoords\u001b[39;49m\u001b[39m'\u001b[39;49m) \u001b[39m+\u001b[39;49m args))]\n",
      "\u001b[1;31mTclError\u001b[0m: invalid command name \".!canvas\""
     ]
    }
   ],
   "source": [
    "import turtle as t\n",
    "import random\n",
    "\n",
    "tim = t.Turtle()\n",
    "scr = t.Screen()\n",
    "t.colormode(255)\n",
    "\n",
    "\n",
    "def random_color():\n",
    "    r = random.randint(0, 255)\n",
    "    g = random.randint(0, 255)\n",
    "    b = random.randint(0, 255)\n",
    "    random_color = (r, g, b)\n",
    "    return random_color\n",
    "\n",
    "\n",
    "turtle_colors = [\n",
    "    \"red\",\n",
    "    \"orange\",\n",
    "    \"yellow\",\n",
    "    \"green\",\n",
    "    \"blue\",\n",
    "    \"purple\",\n",
    "    \"pink\",\n",
    "    \"brown\",\n",
    "    \"black\",\n",
    "    \"white\",\n",
    "    \"gray\",\n",
    "    \"cyan\",\n",
    "    \"magenta\",\n",
    "    \"violet\",\n",
    "    \"indigo\",\n",
    "    \"turquoise\",\n",
    "    \"gold\",\n",
    "    \"silver\",\n",
    "    \"maroon\",\n",
    "    \"olive\"\n",
    "]\n",
    "\n",
    "directions = [0, 90, 180, 270]\n",
    "tim.pensize(15)\n",
    "tim.speed(\"fastest\")\n",
    "\n",
    "for _ in range(1000):\n",
    "    tim.color(random_color())\n",
    "    tim.forward(30)\n",
    "    tim.setheading(random.choice(directions))\n",
    "\n",
    "\n",
    "scr.exitonclick()\n"
   ]
  },
  {
   "cell_type": "code",
   "execution_count": 3,
   "metadata": {},
   "outputs": [],
   "source": [
    "import turtle as t\n",
    "import random\n",
    "\n",
    "tim = t.Turtle()\n",
    "scr = t.Screen()\n",
    "t.colormode(255)\n",
    "\n",
    "\n",
    "def random_color():\n",
    "    r = random.randint(0, 255)\n",
    "    g = random.randint(0, 255)\n",
    "    b = random.randint(0, 255)\n",
    "    color = (r, g, b)\n",
    "    return color\n",
    "\n",
    "\n",
    "def spirograph(size_of_gap):\n",
    "    for _ in range(int(360/size_of_gap)):\n",
    "        tim.speed(\"fastest\")\n",
    "        tim.color(random_color())\n",
    "        tim.circle(100)\n",
    "        tim.setheading(tim.heading()+size_of_gap)\n",
    "\n",
    "\n",
    "spirograph(5)\n",
    "\n",
    "scr.exitonclick()\n"
   ]
  },
  {
   "cell_type": "code",
   "execution_count": 86,
   "metadata": {},
   "outputs": [
    {
     "name": "stdout",
     "output_type": "stream",
     "text": [
      "[(246, 242, 234), (248, 241, 245), (239, 247, 242), (239, 242, 247), (197, 165, 117), (142, 80, 56), (220, 201, 137), (59, 94, 119), (164, 152, 53), (136, 162, 181), (131, 34, 22), (69, 39, 32), (53, 117, 86), (192, 95, 78), (146, 177, 149), (19, 91, 68), (165, 143, 157), (31, 59, 76), (111, 75, 81), (228, 176, 164), (128, 29, 33), (179, 204, 177), (71, 34, 36), (25, 82, 89), (89, 146, 127), (18, 69, 57), (41, 66, 90), (219, 178, 182), (175, 94, 98), (179, 192, 205)]\n"
     ]
    }
   ],
   "source": [
    "import colorgram\n",
    "\n",
    "rgb_colors = []\n",
    "colors = colorgram.extract('img.jpeg', 30)\n",
    "\n",
    "for color in colors:\n",
    "    r = color.rgb.r\n",
    "    g = color.rgb.g\n",
    "    b = color.rgb.b\n",
    "\n",
    "    new_color = (r, g, b)\n",
    "    rgb_colors.append(new_color)\n",
    "\n",
    "print(rgb_colors)\n"
   ]
  },
  {
   "cell_type": "code",
   "execution_count": 110,
   "metadata": {},
   "outputs": [],
   "source": [
    "import turtle as t\n",
    "import random\n",
    "\n",
    "t.colormode(255)\n",
    "tim = t.Turtle()\n",
    "screen = t.Screen()\n",
    "tim.speed('fastest')\n",
    "tim.penup()\n",
    "tim.hideturtle()\n",
    "\n",
    "color_list = [(246, 242, 234), (248, 241, 245), (239, 247, 242), (239, 242, 247), (197, 165, 117), (142, 80, 56), (220, 201, 137), (59, 94, 119), (164, 152, 53), (136, 162, 181), (131, 34, 22), (69, 39, 32), (53, 117, 86), (192, 95, 78), (146,\n",
    "                                                                                                                                                                                                                                               177, 149), (19, 91, 68), (165, 143, 157), (31, 59, 76), (111, 75, 81), (228, 176, 164), (128, 29, 33), (179, 204, 177), (71, 34, 36), (25, 82, 89), (89, 146, 127), (18, 69, 57), (41, 66, 90), (219, 178, 182), (175, 94, 98), (179, 192, 205)]\n",
    "\n",
    "tim.setheading(225)\n",
    "tim.forward(300)\n",
    "tim.setheading(0)\n",
    "num_of_dot = 100\n",
    "\n",
    "for dot_count in range(1, num_of_dot+1):\n",
    "    tim.dot(20, random.choice(color_list))\n",
    "    tim.forward(50)\n",
    "\n",
    "    if dot_count % 10 == 0:\n",
    "        tim.setheading(90)\n",
    "        tim.forward(50)\n",
    "        tim.setheading(180)\n",
    "        tim.forward(500)\n",
    "        tim.setheading(0)\n",
    "\n",
    "screen.exitonclick()\n"
   ]
  },
  {
   "cell_type": "code",
   "execution_count": 120,
   "metadata": {},
   "outputs": [],
   "source": [
    "from turtle import Turtle, Screen\n",
    "\n",
    "tim = Turtle()\n",
    "screen = Screen()\n",
    "\n",
    "\n",
    "def move_forwords():\n",
    "    tim.forward(10)\n",
    "\n",
    "\n",
    "def move_backwords():\n",
    "    tim.backward(10)\n",
    "\n",
    "\n",
    "def turn_left():\n",
    "    new_heading = tim.heading()+10\n",
    "    tim.setheading(new_heading)\n",
    "\n",
    "\n",
    "def turn_right():\n",
    "    new_heading = tim.heading() - 10\n",
    "    tim.setheading(new_heading)\n",
    "\n",
    "\n",
    "def clear():\n",
    "    tim.clear()\n",
    "    tim.penup()\n",
    "    tim.home()\n",
    "    tim.pendown()\n",
    "\n",
    "\n",
    "screen.listen()\n",
    "screen.onkey(move_forwords, \"f\")\n",
    "screen.onkey(move_backwords, \"b\")\n",
    "screen.onkey(turn_left, \"l\")\n",
    "screen.onkey(turn_right, \"r\")\n",
    "screen.onkey(clear, \"c\")\n",
    "screen.exitonclick()\n"
   ]
  },
  {
   "cell_type": "code",
   "execution_count": 5,
   "metadata": {},
   "outputs": [
    {
     "name": "stdout",
     "output_type": "stream",
     "text": [
      "['c', 'e']\n"
     ]
    }
   ],
   "source": [
    "piano_keys = [\"a\", \"b\", \"c\", \"d\", \"e\",\"f\",\"g\"]\n",
    "\n",
    "print(piano_keys[2:5:2])"
   ]
  },
  {
   "cell_type": "code",
   "execution_count": 6,
   "metadata": {},
   "outputs": [
    {
     "name": "stdout",
     "output_type": "stream",
     "text": [
      "('c', 'd', 'e')\n"
     ]
    }
   ],
   "source": [
    "piano_keys = (\"a\", \"b\", \"c\", \"d\", \"e\",\"f\",\"g\")\n",
    "\n",
    "\n",
    "print(piano_keys[2:5])"
   ]
  },
  {
   "cell_type": "code",
   "execution_count": 3,
   "metadata": {},
   "outputs": [
    {
     "name": "stdout",
     "output_type": "stream",
     "text": [
      "Saklayen AHmed\n",
      "\n"
     ]
    }
   ],
   "source": [
    "file = open(\"./Files/file.txt\")\n",
    "content = file.read()\n",
    "print(content)\n",
    "file.close()\n",
    "\n"
   ]
  },
  {
   "cell_type": "code",
   "execution_count": 4,
   "metadata": {},
   "outputs": [
    {
     "name": "stdout",
     "output_type": "stream",
     "text": [
      "Saklayen AHmed\n",
      "\n"
     ]
    }
   ],
   "source": [
    "with open(\"./Files/file.txt\") as file:\n",
    "    content = file.read()\n",
    "    print(content)\n",
    "\n"
   ]
  },
  {
   "cell_type": "code",
   "execution_count": 6,
   "metadata": {},
   "outputs": [],
   "source": [
    "with open(\"./Files/file.txt\", mode=\"w\") as file:\n",
    "    file.write(\"Ahmed\")\n",
    "\n"
   ]
  },
  {
   "cell_type": "code",
   "execution_count": 8,
   "metadata": {},
   "outputs": [],
   "source": [
    "with open(\"./Files/file-01.txt\", mode=\"a\") as file:\n",
    "    file.write(\"\\nSaklayen\")\n",
    "\n"
   ]
  },
  {
   "cell_type": "code",
   "execution_count": 9,
   "metadata": {},
   "outputs": [],
   "source": [
    "from tkinter import *\n",
    "\n",
    "\n",
    "def button_clicked():\n",
    "    new_text = input.get()\n",
    "    my_label['text'] = new_text\n",
    "\n",
    "window = Tk()\n",
    "window.title(\"My GUI\")\n",
    "window.minsize(width=500, height=400)\n",
    "\n",
    "my_label = Label(text=\"I am Saklayen\", font=(\"Arial\",24,\"bold\"))\n",
    "my_label.pack()\n",
    "\n",
    "my_label['text'] = \"New Text\"\n",
    "my_label.config(text=\"New Text 2\")\n",
    "\n",
    "input = Entry(width=40)\n",
    "input.pack(side=\"left\")\n",
    "\n",
    "button = Button(text=\"Click\", command=button_clicked)\n",
    "button.pack(side=\"left\")\n",
    "\n",
    "\n",
    "\n",
    "\n",
    "\n",
    "\n",
    "window.mainloop()\n",
    "\n"
   ]
  },
  {
   "cell_type": "code",
   "execution_count": 12,
   "metadata": {},
   "outputs": [],
   "source": [
    "from tkinter import *\n",
    "\n",
    "\n",
    "def button_clicked():\n",
    "    new_text = input.get()\n",
    "    my_label['text'] = new_text\n",
    "\n",
    "window = Tk()\n",
    "window.title(\"My GUI\")\n",
    "window.minsize(width=500, height=400)\n",
    "\n",
    "my_label = Label(text=\"I am Saklayen\", font=(\"Arial\",24,\"bold\"))\n",
    "my_label.place(x=0,y=0)\n",
    "\n",
    "my_label['text'] = \"New Text\"\n",
    "my_label.config(text=\"New Text 2\")\n",
    "\n",
    "input = Entry(width=40)\n",
    "\n",
    "button = Button(text=\"Click\", command=button_clicked)\n",
    "\n",
    "\n",
    "\n",
    "\n",
    "\n",
    "\n",
    "window.mainloop()\n",
    "\n"
   ]
  },
  {
   "cell_type": "code",
   "execution_count": 22,
   "metadata": {},
   "outputs": [],
   "source": [
    "from tkinter import *\n",
    "\n",
    "\n",
    "def button_clicked():\n",
    "    new_text = input.get()\n",
    "    my_label['text'] = new_text\n",
    "\n",
    "window = Tk()\n",
    "window.title(\"My GUI\")\n",
    "window.minsize(width=500, height=400)\n",
    "window.config(padx=20,pady=20)\n",
    "\n",
    "my_label = Label(text=\"I am Saklayen\", font=(\"Arial\",24,\"bold\"))\n",
    "my_label['text'] = \"New Text\"\n",
    "my_label.config(text=\"New Text 2\")\n",
    "my_label.grid(column=0,row=0)\n",
    "my_label.config(padx=40, pady=30)\n",
    "\n",
    "input = Entry(width=40)\n",
    "input.grid(column=0,row=1)\n",
    "\n",
    "\n",
    "button = Button(text=\"Click\", command=button_clicked)\n",
    "button.grid(column=1,row=1)\n",
    "\n",
    "\n",
    "\n",
    "\n",
    "\n",
    "\n",
    "\n",
    "window.mainloop()\n",
    "\n"
   ]
  },
  {
   "cell_type": "code",
   "execution_count": 15,
   "metadata": {},
   "outputs": [
    {
     "name": "stdout",
     "output_type": "stream",
     "text": [
      "18\n"
     ]
    }
   ],
   "source": [
    "def add(*args):\n",
    "    sum = 0\n",
    "    for n in args:\n",
    "        sum += n\n",
    "    return sum\n",
    "\n",
    "final = add(3,4,5,6)\n",
    "\n",
    "print(final)"
   ]
  },
  {
   "cell_type": "code",
   "execution_count": 19,
   "metadata": {},
   "outputs": [
    {
     "name": "stdout",
     "output_type": "stream",
     "text": [
      "20\n"
     ]
    }
   ],
   "source": [
    "def calculate(n,**kwargs):\n",
    "    # print(kwargs)\n",
    "    # for key, value in kwargs.items():\n",
    "    #     print(key)\n",
    "\n",
    "    n+=kwargs['add']\n",
    "    n*=kwargs['multiply']\n",
    "    print(n)\n",
    "\n",
    "\n",
    "calculate(2, add=2,multiply=5)"
   ]
  },
  {
   "cell_type": "code",
   "execution_count": 21,
   "metadata": {},
   "outputs": [
    {
     "name": "stdout",
     "output_type": "stream",
     "text": [
      "GT-5\n"
     ]
    }
   ],
   "source": [
    "class Car:\n",
    "    def __init__(self,**kw):\n",
    "        self.make = kw['make']\n",
    "        self.model = kw['model']\n",
    "\n",
    "\n",
    "my_car = Car(make= \"Nisssan\", model=\"GT-5\")\n",
    "\n",
    "print(my_car.model)"
   ]
  },
  {
   "cell_type": "code",
   "execution_count": null,
   "metadata": {},
   "outputs": [
    {
     "name": "stdout",
     "output_type": "stream",
     "text": [
      "18\n"
     ]
    }
   ],
   "source": [
    "def add(*args):\n",
    "    sum = 0\n",
    "    for n in args:\n",
    "        sum += n\n",
    "    return sum\n",
    "\n",
    "final = add(3,4,5,6)\n",
    "\n",
    "print(final)"
   ]
  },
  {
   "cell_type": "code",
   "execution_count": null,
   "metadata": {},
   "outputs": [
    {
     "name": "stdout",
     "output_type": "stream",
     "text": [
      "20\n"
     ]
    }
   ],
   "source": [
    "def calculate(n,**kwargs):\n",
    "    # print(kwargs)\n",
    "    # for key, value in kwargs.items():\n",
    "    #     print(key)\n",
    "\n",
    "    n+=kwargs['add']\n",
    "    n*=kwargs['multiply']\n",
    "    print(n)\n",
    "\n",
    "\n",
    "calculate(2, add=2,multiply=5)"
   ]
  },
  {
   "cell_type": "code",
   "execution_count": 23,
   "metadata": {},
   "outputs": [
    {
     "name": "stdout",
     "output_type": "stream",
     "text": [
      "None\n"
     ]
    }
   ],
   "source": [
    "class Car:\n",
    "    def __init__(self,**kw):\n",
    "        self.make = kw.get(\"make\")\n",
    "        self.model = kw.get(\"model\")\n",
    "\n",
    "\n",
    "my_car = Car(make= \"Nisssan\")\n",
    "\n",
    "print(my_car.model)"
   ]
  },
  {
   "cell_type": "code",
   "execution_count": 30,
   "metadata": {},
   "outputs": [],
   "source": [
    "# Mile to Kilometer Converter\n",
    "\n",
    "from tkinter import *\n",
    "\n",
    "def miles_km():\n",
    "    miles = float(miles_input.get())\n",
    "    km = round(miles * 1.609)\n",
    "    km_result.config(text=f\"{km}\")\n",
    "\n",
    "\n",
    "window = Tk()\n",
    "window.title(\"Miles to Kilometer Converter\")\n",
    "window.minsize(width=300, height=300)\n",
    "window.config(padx=25, pady=25)\n",
    "\n",
    "miles_label = Label(text=\"Miles\")\n",
    "miles_label.grid(column=0, row=0)\n",
    "miles_label.config(padx=10)\n",
    "\n",
    "miles_input = Entry(width=30)\n",
    "miles_input.grid(column=1, row=0)\n",
    "\n",
    "\n",
    "other_text = Label(text=\"is equal to\")\n",
    "other_text.grid(column=0, row=1)\n",
    "other_text.config(pady=30)\n",
    "\n",
    "km_result = Label(text=\"0\")\n",
    "km_result.grid(column=1, row=1)\n",
    "km_result.config(pady=30)\n",
    "\n",
    "km_label = Label(text=\"KM\")\n",
    "km_label.grid(column=2, row=1)\n",
    "km_label.config(pady=30)\n",
    "\n",
    "miles_button = Button(text=\"Convert\", command=miles_km)\n",
    "miles_button.grid(column=2, row=2)\n",
    "\n",
    "window.mainloop()"
   ]
  },
  {
   "cell_type": "code",
   "execution_count": null,
   "metadata": {},
   "outputs": [],
   "source": [
    "import time\n",
    "\n",
    "count = 5\n",
    "\n",
    "while True:\n",
    "    time.sleep(1)\n",
    "    count -=1\n",
    "    print(count)"
   ]
  },
  {
   "cell_type": "code",
   "execution_count": 1,
   "metadata": {},
   "outputs": [
    {
     "name": "stdout",
     "output_type": "stream",
     "text": [
      "2\n"
     ]
    }
   ],
   "source": [
    "time  = 90\n",
    "time = str(time)\n",
    "print(len(time))"
   ]
  },
  {
   "cell_type": "code",
   "execution_count": 1,
   "metadata": {},
   "outputs": [
    {
     "ename": "FileNotFoundError",
     "evalue": "[Errno 2] No such file or directory: 'Data.txt'",
     "output_type": "error",
     "traceback": [
      "\u001b[1;31m---------------------------------------------------------------------------\u001b[0m",
      "\u001b[1;31mFileNotFoundError\u001b[0m                         Traceback (most recent call last)",
      "Cell \u001b[1;32mIn [1], line 1\u001b[0m\n\u001b[1;32m----> 1\u001b[0m \u001b[38;5;28;01mwith\u001b[39;00m \u001b[38;5;28;43mopen\u001b[39;49m\u001b[43m(\u001b[49m\u001b[38;5;124;43m\"\u001b[39;49m\u001b[38;5;124;43mData.txt\u001b[39;49m\u001b[38;5;124;43m\"\u001b[39;49m\u001b[43m)\u001b[49m \u001b[38;5;28;01mas\u001b[39;00m file:\n\u001b[0;32m      2\u001b[0m     file\u001b[38;5;241m.\u001b[39mread()\n",
      "File \u001b[1;32m~\\AppData\\Local\\Packages\\PythonSoftwareFoundation.Python.3.9_qbz5n2kfra8p0\\LocalCache\\local-packages\\Python39\\site-packages\\IPython\\core\\interactiveshell.py:282\u001b[0m, in \u001b[0;36m_modified_open\u001b[1;34m(file, *args, **kwargs)\u001b[0m\n\u001b[0;32m    275\u001b[0m \u001b[39mif\u001b[39;00m file \u001b[39min\u001b[39;00m {\u001b[39m0\u001b[39m, \u001b[39m1\u001b[39m, \u001b[39m2\u001b[39m}:\n\u001b[0;32m    276\u001b[0m     \u001b[39mraise\u001b[39;00m \u001b[39mValueError\u001b[39;00m(\n\u001b[0;32m    277\u001b[0m         \u001b[39mf\u001b[39m\u001b[39m\"\u001b[39m\u001b[39mIPython won\u001b[39m\u001b[39m'\u001b[39m\u001b[39mt let you open fd=\u001b[39m\u001b[39m{\u001b[39;00mfile\u001b[39m}\u001b[39;00m\u001b[39m by default \u001b[39m\u001b[39m\"\u001b[39m\n\u001b[0;32m    278\u001b[0m         \u001b[39m\"\u001b[39m\u001b[39mas it is likely to crash IPython. If you know what you are doing, \u001b[39m\u001b[39m\"\u001b[39m\n\u001b[0;32m    279\u001b[0m         \u001b[39m\"\u001b[39m\u001b[39myou can use builtins\u001b[39m\u001b[39m'\u001b[39m\u001b[39m open.\u001b[39m\u001b[39m\"\u001b[39m\n\u001b[0;32m    280\u001b[0m     )\n\u001b[1;32m--> 282\u001b[0m \u001b[39mreturn\u001b[39;00m io_open(file, \u001b[39m*\u001b[39margs, \u001b[39m*\u001b[39m\u001b[39m*\u001b[39mkwargs)\n",
      "\u001b[1;31mFileNotFoundError\u001b[0m: [Errno 2] No such file or directory: 'Data.txt'"
     ]
    }
   ],
   "source": [
    "with open(\"Data.txt\") as file:\n",
    "    file.read()"
   ]
  },
  {
   "cell_type": "code",
   "execution_count": 2,
   "metadata": {},
   "outputs": [
    {
     "ename": "KeyError",
     "evalue": "'non_key'",
     "output_type": "error",
     "traceback": [
      "\u001b[1;31m---------------------------------------------------------------------------\u001b[0m",
      "\u001b[1;31mKeyError\u001b[0m                                  Traceback (most recent call last)",
      "Cell \u001b[1;32mIn [2], line 2\u001b[0m\n\u001b[0;32m      1\u001b[0m a_dict \u001b[38;5;241m=\u001b[39m {\u001b[38;5;124m\"\u001b[39m\u001b[38;5;124mkey\u001b[39m\u001b[38;5;124m\"\u001b[39m:\u001b[38;5;124m\"\u001b[39m\u001b[38;5;124mvalue\u001b[39m\u001b[38;5;124m\"\u001b[39m}\n\u001b[1;32m----> 2\u001b[0m value \u001b[38;5;241m=\u001b[39m \u001b[43ma_dict\u001b[49m\u001b[43m[\u001b[49m\u001b[38;5;124;43m\"\u001b[39;49m\u001b[38;5;124;43mnon_key\u001b[39;49m\u001b[38;5;124;43m\"\u001b[39;49m\u001b[43m]\u001b[49m\n",
      "\u001b[1;31mKeyError\u001b[0m: 'non_key'"
     ]
    }
   ],
   "source": [
    "a_dict = {\"key\":\"value\"}\n",
    "value = a_dict[\"non_key\"]"
   ]
  },
  {
   "cell_type": "code",
   "execution_count": 3,
   "metadata": {},
   "outputs": [
    {
     "ename": "IndexError",
     "evalue": "list index out of range",
     "output_type": "error",
     "traceback": [
      "\u001b[1;31m---------------------------------------------------------------------------\u001b[0m",
      "\u001b[1;31mIndexError\u001b[0m                                Traceback (most recent call last)",
      "Cell \u001b[1;32mIn [3], line 2\u001b[0m\n\u001b[0;32m      1\u001b[0m data \u001b[38;5;241m=\u001b[39m [\u001b[38;5;124m\"\u001b[39m\u001b[38;5;124mSkalswyen\u001b[39m\u001b[38;5;124m\"\u001b[39m,\u001b[38;5;124m\"\u001b[39m\u001b[38;5;124mzsjf\u001b[39m\u001b[38;5;124m\"\u001b[39m, \u001b[38;5;124m\"\u001b[39m\u001b[38;5;124mzdkjf\u001b[39m\u001b[38;5;124m\"\u001b[39m]\n\u001b[1;32m----> 2\u001b[0m data2 \u001b[38;5;241m=\u001b[39m \u001b[43mdata\u001b[49m\u001b[43m[\u001b[49m\u001b[38;5;241;43m9\u001b[39;49m\u001b[43m]\u001b[49m\n",
      "\u001b[1;31mIndexError\u001b[0m: list index out of range"
     ]
    }
   ],
   "source": [
    "data = [\"Skalswyen\",\"zsjf\", \"zdkjf\"]\n",
    "data2 = data[9]"
   ]
  },
  {
   "cell_type": "code",
   "execution_count": 4,
   "metadata": {},
   "outputs": [
    {
     "ename": "TypeError",
     "evalue": "can only concatenate str (not \"int\") to str",
     "output_type": "error",
     "traceback": [
      "\u001b[1;31m---------------------------------------------------------------------------\u001b[0m",
      "\u001b[1;31mTypeError\u001b[0m                                 Traceback (most recent call last)",
      "Cell \u001b[1;32mIn [4], line 2\u001b[0m\n\u001b[0;32m      1\u001b[0m test \u001b[38;5;241m=\u001b[39m \u001b[38;5;124m\"\u001b[39m\u001b[38;5;124mtext\u001b[39m\u001b[38;5;124m\"\u001b[39m\n\u001b[1;32m----> 2\u001b[0m \u001b[38;5;28mprint\u001b[39m(\u001b[43mtest\u001b[49m\u001b[38;5;241;43m+\u001b[39;49m\u001b[38;5;241;43m2\u001b[39;49m)\n",
      "\u001b[1;31mTypeError\u001b[0m: can only concatenate str (not \"int\") to str"
     ]
    }
   ],
   "source": [
    "test = \"text\"\n",
    "print(test+2)"
   ]
  },
  {
   "cell_type": "code",
   "execution_count": 22,
   "metadata": {},
   "outputs": [
    {
     "name": "stdout",
     "output_type": "stream",
     "text": [
      "value\n",
      "Something\n",
      "File closed\n"
     ]
    }
   ],
   "source": [
    "try:\n",
    "    file = open(\"dataa.txt\")\n",
    "    a_dict = {\"key\":\"value\"}\n",
    "    print(a_dict[\"key\"])\n",
    "except FileNotFoundError:\n",
    "    file = open(\"dataa.txt\", \"w\")\n",
    "    file.write(\"Something\")\n",
    "except KeyError as err:\n",
    "    print(f\"The key {err} error.\")\n",
    "else:\n",
    "    content = file.read()\n",
    "    print(content)\n",
    "finally:\n",
    "    file.close()\n",
    "    print(\"File closed\")\n",
    "\n",
    "\n"
   ]
  },
  {
   "cell_type": "code",
   "execution_count": 25,
   "metadata": {},
   "outputs": [
    {
     "name": "stdout",
     "output_type": "stream",
     "text": [
      "value\n",
      "Something\n"
     ]
    },
    {
     "ename": "TypeError",
     "evalue": "This is an error that i made up",
     "output_type": "error",
     "traceback": [
      "\u001b[1;31m---------------------------------------------------------------------------\u001b[0m",
      "\u001b[1;31mTypeError\u001b[0m                                 Traceback (most recent call last)",
      "Cell \u001b[1;32mIn [25], line 14\u001b[0m\n\u001b[0;32m     12\u001b[0m     \u001b[38;5;28mprint\u001b[39m(content)\n\u001b[0;32m     13\u001b[0m \u001b[38;5;28;01mfinally\u001b[39;00m:\n\u001b[1;32m---> 14\u001b[0m     \u001b[38;5;28;01mraise\u001b[39;00m \u001b[38;5;167;01mTypeError\u001b[39;00m(\u001b[38;5;124m\"\u001b[39m\u001b[38;5;124mThis is an error that i made up\u001b[39m\u001b[38;5;124m\"\u001b[39m)\n",
      "\u001b[1;31mTypeError\u001b[0m: This is an error that i made up"
     ]
    }
   ],
   "source": [
    "try:\n",
    "    file = open(\"dataa.txt\")\n",
    "    a_dict = {\"key\":\"value\"}\n",
    "    print(a_dict[\"key\"])\n",
    "except FileNotFoundError:\n",
    "    file = open(\"dataa.txt\", \"w\")\n",
    "    file.write(\"Something\")\n",
    "except KeyError as err:\n",
    "    print(f\"The key {err} error.\")\n",
    "else:\n",
    "    content = file.read()\n",
    "    print(content)\n",
    "finally:\n",
    "    raise TypeError(\"This is an error that i made up\")\n",
    "\n"
   ]
  },
  {
   "cell_type": "code",
   "execution_count": 29,
   "metadata": {},
   "outputs": [
    {
     "ename": "ValueError",
     "evalue": "There is a value error.",
     "output_type": "error",
     "traceback": [
      "\u001b[1;31m---------------------------------------------------------------------------\u001b[0m",
      "\u001b[1;31mValueError\u001b[0m                                Traceback (most recent call last)",
      "Cell \u001b[1;32mIn [29], line 5\u001b[0m\n\u001b[0;32m      2\u001b[0m weight \u001b[38;5;241m=\u001b[39m \u001b[38;5;28mfloat\u001b[39m(\u001b[38;5;28minput\u001b[39m(\u001b[38;5;124m\"\u001b[39m\u001b[38;5;124mWeight: \u001b[39m\u001b[38;5;124m\"\u001b[39m))\n\u001b[0;32m      4\u001b[0m \u001b[38;5;28;01mif\u001b[39;00m height \u001b[38;5;241m>\u001b[39m \u001b[38;5;241m3\u001b[39m:\n\u001b[1;32m----> 5\u001b[0m     \u001b[38;5;28;01mraise\u001b[39;00m \u001b[38;5;167;01mValueError\u001b[39;00m(\u001b[38;5;124m\"\u001b[39m\u001b[38;5;124mThere is a value error.\u001b[39m\u001b[38;5;124m\"\u001b[39m)\n\u001b[0;32m      7\u001b[0m bmi \u001b[38;5;241m=\u001b[39m weight\u001b[38;5;241m/\u001b[39mheight\u001b[38;5;241m*\u001b[39m\u001b[38;5;241m*\u001b[39m\u001b[38;5;241m2\u001b[39m\n\u001b[0;32m      9\u001b[0m \u001b[38;5;28mprint\u001b[39m(bmi)\n",
      "\u001b[1;31mValueError\u001b[0m: There is a value error."
     ]
    }
   ],
   "source": [
    "height = float(input(\"Height: \"))\n",
    "weight = float(input(\"Weight: \"))\n",
    "\n",
    "if height > 3:\n",
    "    raise ValueError(\"There is a value error.\")\n",
    "\n",
    "bmi = weight/height**2\n",
    "\n",
    "print(bmi)"
   ]
  },
  {
   "cell_type": "code",
   "execution_count": 4,
   "metadata": {},
   "outputs": [
    {
     "name": "stdout",
     "output_type": "stream",
     "text": [
      "2023\n",
      "1997-04-25 00:00:00\n"
     ]
    }
   ],
   "source": [
    "import datetime as dt\n",
    "\n",
    "now = dt.datetime.now()\n",
    "year = now.year\n",
    "month = now.month\n",
    "\n",
    "print(year)\n",
    "\n",
    "\n",
    "dob = dt.datetime(year=1997,month=4,day=25)\n",
    "\n",
    "print(dob)"
   ]
  }
 ],
 "metadata": {
  "kernelspec": {
   "display_name": "Python 3.9.13 64-bit (microsoft store)",
   "language": "python",
   "name": "python3"
  },
  "language_info": {
   "codemirror_mode": {
    "name": "ipython",
    "version": 3
   },
   "file_extension": ".py",
   "mimetype": "text/x-python",
   "name": "python",
   "nbconvert_exporter": "python",
   "pygments_lexer": "ipython3",
   "version": "3.9.13"
  },
  "orig_nbformat": 4,
  "vscode": {
   "interpreter": {
    "hash": "c963ca33c306b262179d3463bb2307186f4f0f25b5be50d4410449a9a04a0380"
   }
  }
 },
 "nbformat": 4,
 "nbformat_minor": 2
}
